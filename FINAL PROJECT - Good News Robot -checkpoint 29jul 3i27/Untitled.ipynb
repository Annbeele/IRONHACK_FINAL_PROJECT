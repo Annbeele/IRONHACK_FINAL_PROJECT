{
 "cells": [
  {
   "cell_type": "markdown",
   "id": "ed98d56a",
   "metadata": {},
   "source": [
    "# GOOD NEWS ROBOT"
   ]
  },
  {
   "cell_type": "markdown",
   "id": "60f7630a",
   "metadata": {},
   "source": [
    "### API"
   ]
  },
  {
   "cell_type": "code",
   "execution_count": 1,
   "id": "8368e841",
   "metadata": {},
   "outputs": [],
   "source": [
    "import getpass\n",
    "import requests"
   ]
  },
  {
   "cell_type": "code",
   "execution_count": 2,
   "id": "36601802",
   "metadata": {},
   "outputs": [
    {
     "name": "stdout",
     "output_type": "stream",
     "text": [
      "Mediastack key?········\n"
     ]
    }
   ],
   "source": [
    "key=str(getpass.getpass('Mediastack key?'))"
   ]
  },
  {
   "cell_type": "code",
   "execution_count": 38,
   "id": "4da862c7",
   "metadata": {},
   "outputs": [],
   "source": [
    "from datetime import date\n",
    "from datetime import timedelta"
   ]
  },
  {
   "cell_type": "code",
   "execution_count": 56,
   "id": "a848c666",
   "metadata": {},
   "outputs": [],
   "source": [
    "today = str(date.today())"
   ]
  },
  {
   "cell_type": "code",
   "execution_count": 55,
   "id": "fc9313b8",
   "metadata": {},
   "outputs": [],
   "source": [
    "last_week_day = str(date.today() - timedelta(days=7))"
   ]
  },
  {
   "cell_type": "code",
   "execution_count": 59,
   "id": "2583e6dd",
   "metadata": {},
   "outputs": [],
   "source": [
    "#request to get news from US and UK last week:\n",
    "\n",
    "response_US_UK = requests.get('http://api.mediastack.com/v1/news?access_key='+ key +'&countries=us,gb&limit=100&date='+ last_week_day +','+ today)\n"
   ]
  },
  {
   "cell_type": "code",
   "execution_count": 61,
   "id": "7d1f3bb3",
   "metadata": {},
   "outputs": [],
   "source": [
    "json=response_US_UK.json()"
   ]
  },
  {
   "cell_type": "code",
   "execution_count": 64,
   "id": "ae9d10d6",
   "metadata": {},
   "outputs": [
    {
     "data": {
      "text/plain": [
       "{'limit': 100, 'offset': 0, 'count': 100, 'total': 10000}"
      ]
     },
     "execution_count": 64,
     "metadata": {},
     "output_type": "execute_result"
    }
   ],
   "source": [
    "json['pagination']"
   ]
  },
  {
   "cell_type": "code",
   "execution_count": 66,
   "id": "651cd4c5",
   "metadata": {},
   "outputs": [
    {
     "data": {
      "text/plain": [
       "{'author': 'Yahoo Sports',\n",
       " 'title': \"Deaf-blid Paralympian quits Team USA when told she can't bring assistant to Tokyo\",\n",
       " 'description': \"Becca Meyers, a medal contender, was told she'd have to navigate Tokyo without the aid of her personal care assistant because of COVID-19 restrictions.\",\n",
       " 'url': 'https://sports.yahoo.com/blind-deaf-paralympian-becca-meyers-quits-team-usa-when-told-she-cant-bring-assistant-004704299.html?src=rss',\n",
       " 'source': 'sports',\n",
       " 'image': None,\n",
       " 'category': 'general',\n",
       " 'language': 'en',\n",
       " 'country': 'us',\n",
       " 'published_at': '2021-07-20T00:47:04+00:00'}"
      ]
     },
     "execution_count": 66,
     "metadata": {},
     "output_type": "execute_result"
    }
   ],
   "source": [
    "json['data'][0]"
   ]
  },
  {
   "cell_type": "code",
   "execution_count": null,
   "id": "df9f0f92",
   "metadata": {},
   "outputs": [],
   "source": []
  },
  {
   "cell_type": "code",
   "execution_count": null,
   "id": "1ac21987",
   "metadata": {},
   "outputs": [],
   "source": []
  },
  {
   "cell_type": "code",
   "execution_count": null,
   "id": "ce29f756",
   "metadata": {},
   "outputs": [],
   "source": []
  },
  {
   "cell_type": "code",
   "execution_count": null,
   "id": "41ba3c36",
   "metadata": {},
   "outputs": [],
   "source": []
  },
  {
   "cell_type": "code",
   "execution_count": 3,
   "id": "aaba29e9",
   "metadata": {},
   "outputs": [],
   "source": [
    "response = requests.get('http://api.mediastack.com/v1/news?access_key='+ key)\n",
    "\n",
    "#response_kewords_country = requests.get('http://api.mediastack.com/v1/news?access_key='+ key +'&keywords=tennis&countries=us,gb,de')"
   ]
  },
  {
   "cell_type": "code",
   "execution_count": 4,
   "id": "c332a2ec",
   "metadata": {},
   "outputs": [
    {
     "data": {
      "text/plain": [
       "200"
      ]
     },
     "execution_count": 4,
     "metadata": {},
     "output_type": "execute_result"
    }
   ],
   "source": [
    "response.status_code"
   ]
  },
  {
   "cell_type": "code",
   "execution_count": 5,
   "id": "cae51ed6",
   "metadata": {},
   "outputs": [],
   "source": [
    "json = response.json()"
   ]
  },
  {
   "cell_type": "code",
   "execution_count": 6,
   "id": "6c34d9b7",
   "metadata": {
    "scrolled": true
   },
   "outputs": [
    {
     "data": {
      "text/plain": [
       "dict_keys(['pagination', 'data'])"
      ]
     },
     "execution_count": 6,
     "metadata": {},
     "output_type": "execute_result"
    }
   ],
   "source": [
    "json.keys()"
   ]
  },
  {
   "cell_type": "code",
   "execution_count": 7,
   "id": "0e51a9d0",
   "metadata": {},
   "outputs": [
    {
     "data": {
      "text/plain": [
       "[{'author': 'Hala Abdallah',\n",
       "  'title': 'Apple rolls out update to fix major ‘hacking’ security flaw',\n",
       "  'description': 'The latest iOS 14.4.2 update has no additional features but provides technical repair to protect Apple users from being hacked.\\xa0 Apple urged all its users to install the latest software to secure their privacy and prevent their devices from being hacked after discovering critical vulnerabilities in ‘Webkit’. The tech giant had earlier revealed that a [&#8230;](The post Apple rolls out update to fix major &#8216;hacking&#8217; security flaw is from Doha News | Qatar.)',\n",
       "  'url': 'http://feedproxy.google.com/~r/DohaNews/~3/biDpKTDQxvI/',\n",
       "  'source': 'Doha News',\n",
       "  'image': None,\n",
       "  'category': 'general',\n",
       "  'language': 'ar',\n",
       "  'country': 'qa',\n",
       "  'published_at': '2021-04-01T03:22:38+00:00'},\n",
       " {'author': 'إعلام',\n",
       "  'title': 'أحمد السعدني يعتذر للجمهور عن مشاركته في مسلسل \"كله بالحب\" - E3lam.Com',\n",
       "  'description': 'أعلن الفنان أحمد السعدني اعتذاره عن مشاركته في مسلسل \"كله بالحب\" المقرر عرضه في رمضان المقبل، بسبب مشكلات تحدث في المسلسل و',\n",
       "  'url': 'http://thinakhbarak.local/articles/41728586-%D8%A3%D8%AD%D9%85%D8%AF-%D8%A7%D9%84%D8%B3%D8%B9%D8%AF%D9%86%D9%8A-%D9%8A%D8%B9%D8%AA%D8%B0%D8%B1-%D9%84%D9%84%D8%AC%D9%85%D9%87%D9%88%D8%B1-%D8%B9%D9%86-%D9%85%D8%B4%D8%A7%D8%B1%D9%83%D8%AA%D9%87-%D9%81%D9%8A',\n",
       "  'source': 'Akhbarak.net',\n",
       "  'image': 'https://akhbarak.net/photos/articles-photos/2021/4/1/41728586/41728586-large.jpg?1617280292',\n",
       "  'category': 'general',\n",
       "  'language': 'ar',\n",
       "  'country': 'eg',\n",
       "  'published_at': '2021-04-01T12:31:18+00:00'},\n",
       " {'author': 'إعلام',\n",
       "  'title': '100 تحديث.. أبرز التحديثات الأخيرة لـ خرائط جوجل - E3lam.Com',\n",
       "  'description': 'تعرف على أبرز التحديثات الأخيرة لـ خرائط جوجل حيث أضافت خرائط جوجل تحديثات جديدة مثيرة، والكثير من الميزات لمساعدة المستخدمين في التجول.',\n",
       "  'url': 'http://thinakhbarak.local/articles/41726390-100-%D8%AA%D8%AD%D8%AF%D9%8A%D8%AB-%D8%A3%D8%A8%D8%B1%D8%B2-%D8%A7%D9%84%D8%AA%D8%AD%D8%AF%D9%8A%D8%AB%D8%A7%D8%AA-%D8%A7%D9%84%D8%A3%D8%AE%D9%8A%D8%B1%D8%A9-%D9%84%D9%80-%D8%AE%D8%B1%D8%A7%D8%A6%D8%B7',\n",
       "  'source': 'Akhbarak.net',\n",
       "  'image': 'https://akhbarak.net/photos/articles-photos/2021/4/1/41726390/41726390-large.jpg?1617264214',\n",
       "  'category': 'general',\n",
       "  'language': 'ar',\n",
       "  'country': 'eg',\n",
       "  'published_at': '2021-04-01T08:03:30+00:00'},\n",
       " {'author': 'Sana Hussain',\n",
       "  'title': 'Qatar’s top engineering company Bayanat boasts a global network\\xa0',\n",
       "  'description': 'Qatar’s top engineering company partners with over 50 Global partners to provide world-class civil and military engineering aerospace solutions.\\xa0 Qatar-owned Bayanat Engineering’s wide international partnership network with prestigious companies provide Qatar with high-quality information and communication, navigation, meteorology, Air Traffic Management, specialised lighting, low voltage & low current systems, surveillance, passenger and traffic movement operations. [&#8230;](The post Qatar’s top engineering company Bayanat boasts a global network\\xa0 is from Doha News | Qatar.)',\n",
       "  'url': 'http://feedproxy.google.com/~r/DohaNews/~3/TY2HITCkhcc/',\n",
       "  'source': 'Doha News',\n",
       "  'image': None,\n",
       "  'category': 'general',\n",
       "  'language': 'ar',\n",
       "  'country': 'qa',\n",
       "  'published_at': '2021-04-01T10:36:05+00:00'},\n",
       " {'author': 'SudanTribube.com',\n",
       "  'title': 'Sudan, Egypt air forces hold new combat drills',\n",
       "  'description': \"March 31, 2021 (KHARTOUM) - The Sudanese and Egyptian armies are conducting new joint air exercises with the participation of special operations units four months after similar drills. On 15 November 2020, the two armies launched joint air exercises, dubbed The Nile Eagles1, in Sudan's Marawi military airbase, north of Khartoum. The Nile Eagles 2, which aim to build up capabilities and to carry out joint operations involving special forces, come amid the growing tensions in the region (...)-News/ FRONT_PAGE_SECONDARY\",\n",
       "  'url': 'https://www.sudantribune.com/spip.php?article69386',\n",
       "  'source': 'Sudan Tribune',\n",
       "  'image': None,\n",
       "  'category': 'general',\n",
       "  'language': 'ar',\n",
       "  'country': 'sd',\n",
       "  'published_at': '2021-04-01T09:02:55+00:00'},\n",
       " {'author': 'monjed jado',\n",
       "  'title': 'CEC says 36 lists have registered for the upcoming Palestinian legislative elections',\n",
       "  'description': 'RAMALLAH/PNN/ The Palestinian Central Elections Commission (CEC) announced this morning that 36 lists have registered for the upcoming legislative elections planned for May 22. It said the CEC has already approved 13 lists and the others will be decided on within the coming few days. Names of the approved lists and the candidates will be &#8230;التدوينة CEC says 36 lists have registered for the upcoming Palestinian legislative elections ظهرت أولاً على PNN.',\n",
       "  'url': 'http://english.pnn.ps/2021/04/01/cec-says-36-lists-have-registered-for-the-upcoming-palestinian-legislative-elections/',\n",
       "  'source': 'english',\n",
       "  'image': None,\n",
       "  'category': 'general',\n",
       "  'language': 'ar',\n",
       "  'country': 'ps',\n",
       "  'published_at': '2021-04-01T08:02:04+00:00'},\n",
       " {'author': None,\n",
       "  'title': 'بنشريفة لـ&quot;البطولة&quot;: &quot;لا وجود للاعب احتياطي أو رسمي في الوداد.. أي إسم يحمل قميص الفريق عليه أن يكون جاهزا لجميع الاختبارات&quot;',\n",
       "  'description': 'قال الإطارة الوطني محمد بنشريفة، مساعد مدرب الوداد الرياضي، خلال الندوة الصحفية التي عقدها، اليوم في جوهانسبورغ الجنوب أفريقية، إن الفرق الكبيرة لا تعترف بمصطلحات لاعب رسمي أو احتياطي.وأجاب المتحدث ذا',\n",
       "  'url': 'http://www.elbotola.com/article/2021-04-01-14-08-254.html',\n",
       "  'source': 'Elbotola.com',\n",
       "  'image': None,\n",
       "  'category': 'general',\n",
       "  'language': 'ar',\n",
       "  'country': 'ma',\n",
       "  'published_at': '2021-04-01T14:11:18+00:00'},\n",
       " {'author': None,\n",
       "  'title': 'كارتيرون: &quot;سنخوض &#x27;نهائي&#x27; أمام المولودية قبل مواجهة تونغيث وتفوقي على الأندية الجزائرية ليس مقياسًا لتكرار ذلك&quot;',\n",
       "  'description': 'اعتبر مدرب الزمالك، باتريس كارتيرون، المواجهة التي تنتظر فريقه أمام مضيفه مولودية الجزائر، لحساب الجولة الخامسة من دور المجموعات لدوري أبطال أفريقيا، بمثابة \"نهائي\"، نظرًا إلى حاجة \"الفارس الأبيض\" لتح',\n",
       "  'url': 'http://www.elbotola.com/article/2021-04-01-15-48-306.html',\n",
       "  'source': 'Elbotola.com',\n",
       "  'image': None,\n",
       "  'category': 'general',\n",
       "  'language': 'ar',\n",
       "  'country': 'ma',\n",
       "  'published_at': '2021-04-01T16:46:24+00:00'},\n",
       " {'author': None,\n",
       "  'title': 'Espagne\\xa0: Arrestation d’un individu recherché par le Maroc pour trafic de drogue',\n",
       "  'description': 'La police espagnole de Lanzarote a arrêté un homme de 40 ans à Arrecife (Lanzarote), en application d’un mandat d’arrêt international émis par le Maroc, pour des faits de trafic de drogue. L’individu, aux antécédents judiciaires, porte la nationalité marocaine.',\n",
       "  'url': 'https://www.yabiladi.com/articles/details/107999/espagne-arrestation-d-un-individu-recherche.html',\n",
       "  'source': 'yabiladi.com',\n",
       "  'image': 'https://static.yabiladi.com/files/articles/69ff1e633fda8b4ce934b18eef9deb8320210401154314150.jpg',\n",
       "  'category': 'general',\n",
       "  'language': 'ar',\n",
       "  'country': 'ma',\n",
       "  'published_at': '2021-04-01T14:40:00+00:00'},\n",
       " {'author': None,\n",
       "  'title': 'زيدان يتلقى &quot;ضربة موجعة&quot;.. راموس يصاب من جديد ويغيب أمام ليفربول ومباراة &quot;الكلاسيكو&quot;',\n",
       "  'description': 'تلقى المدرب الفرنسي زين الدين زيدان، ضربة موجعة يومه الخميس، بتأكد إصابة قائده ونجمه سيرخيو راموس.وكتب ريال مدريد في بلاغ رسمي: \"بعد الاختبارات التي أجريت اليوم على قائدنا سيرجيو راموس، تم التأكد من ت',\n",
       "  'url': 'http://www.elbotola.com/article/2021-04-01-12-55-272.html',\n",
       "  'source': 'Elbotola.com',\n",
       "  'image': None,\n",
       "  'category': 'general',\n",
       "  'language': 'ar',\n",
       "  'country': 'ma',\n",
       "  'published_at': '2021-04-01T13:01:21+00:00'},\n",
       " {'author': None,\n",
       "  'title': 'Maroc : Le CVE prévoit une croissance de 5,2% en 2021',\n",
       "  'description': 'Léconomie nationale devrait enregistrer un taux de croissance de 5,2% au titre de cette année, soit 0,4 point de plus par rapport aux prévisions de la Loi de Finances (LF-2021), prévoit le Comité de veille économique (CVE), réuni vendredi en mode visioconférence. «Les perspectives favorables de la campagne agricole et le déroulement exemplaire de lopération de vaccination constituent autant de facteurs qui ne manqueraient dinsuffler un nouvel élan à la croissance de l’économie nationale en 2021»,\\xa0souligne le ministère de lEconomie, des finances et de la Réforme de...',\n",
       "  'url': 'https://www.yabiladi.com/articles/details/108097/maroc-prevoit-croissance-2021.html',\n",
       "  'source': 'yabiladi.com',\n",
       "  'image': 'https://static.yabiladi.com/files/articles/937a0dbc929f75c4069df349df41866420210403124819150.jpg',\n",
       "  'category': 'general',\n",
       "  'language': 'ar',\n",
       "  'country': 'ma',\n",
       "  'published_at': '2021-04-03T10:50:00+00:00'},\n",
       " {'author': None,\n",
       "  'title': 'La FMEJ crée sa section régionale à Tanger-Tétouan-Al Hoceima',\n",
       "  'description': 'La section de la Fédération marocaine des éditeurs de journaux (FMEJ) dans la région de Tanger-Tétouan-Al Hoceima a été créée, vendredi à Tanger.\\xa0LAssemblée générale constitutive, tenue sous la supervision du président de la FMEJ, Noureddine Miftah et des membres du bureau exécutif, a élu le directeur de publication du Journal de Tanger, Abdelhak Bakhat, président de cette section qui vient s’ajouter à quatre autres créées dans les régions de Guelmim-Oued Noun, Laâyoune-Sakia El Hamra, Dakhla-Oued Eddahab et l’Oriental.',\n",
       "  'url': 'https://www.yabiladi.com/articles/details/108098/fmej-cree-section-regionale-tanger-tetouan-al.html',\n",
       "  'source': 'yabiladi.com',\n",
       "  'image': 'https://static.yabiladi.com/files/articles/e03a590b79f6df74abf0230a8c961efa20210403125256150.jpg',\n",
       "  'category': 'general',\n",
       "  'language': 'ar',\n",
       "  'country': 'ma',\n",
       "  'published_at': '2021-04-03T11:00:00+00:00'},\n",
       " {'author': 'monjed jado',\n",
       "  'title': 'UNRWA launches COVID-19 awareness campaign in the West Bank',\n",
       "  'description': 'East Jerusalem/PNN/ Given the increasingly high rates of Covid 19 infection in the West Bank, the United Nations Relief and Works Agency for Palestine Refugees in the Near East (UNRWA) is continuing its COVID-19 prevention and awareness campaign. This newest initiative will begin in the Aida refugee camp in Bethlehem and will be rolled out &#8230;التدوينة UNRWA launches COVID-19 awareness campaign in the West Bank ظهرت أولاً على PNN.',\n",
       "  'url': 'http://english.pnn.ps/2021/04/02/unrwa-launches-covid-19-awareness-campaign-in-the-west-bank/',\n",
       "  'source': 'english',\n",
       "  'image': None,\n",
       "  'category': 'general',\n",
       "  'language': 'ar',\n",
       "  'country': 'ps',\n",
       "  'published_at': '2021-04-02T07:59:00+00:00'},\n",
       " {'author': None,\n",
       "  'title': 'لجنة القوانين بالجامعة تقترح &quot;جملة من التعديلات&quot; أبرزها حرمان الأندية من الانتدابات في حال عدم تسوية &quot;النزاعات المالية&quot; وضرورة اعتماد نظام الـ&quot;TMS&quot;',\n",
       "  'description': 'استعرض حسن الفيلالي، رئيس لجنة القوانين والأنظمة واللجنة المالية ولجنة اللاعب بالجامعة الملكية المغربية لكرة القدم، أبرز التعديلات المقترحة من طرف المكتب المديري، والتي سيتم مناقشتها في الجمع العام ال',\n",
       "  'url': 'http://www.elbotola.com/article/2021-04-02-19-07-752.html',\n",
       "  'source': 'Elbotola.com',\n",
       "  'image': None,\n",
       "  'category': 'general',\n",
       "  'language': 'ar',\n",
       "  'country': 'ma',\n",
       "  'published_at': '2021-04-02T19:11:22+00:00'},\n",
       " {'author': None,\n",
       "  'title': '&quot;الكاف&quot; يحدد الـ25 من يونيو تاريخا لقرعة &quot;الكان&quot; ويضع الفترة الممتدة من الـ9 يناير إلى الـ6 من فبراير المقبلين موعدا لإجراء البطولة',\n",
       "  'description': 'أعلن الاتحاد الأفريقي لكرة القدم \"الكاف\"، عبر موقعة الرسمي، موعد قرعة كأس الأمم الإفريقية، وكذلك موعد انطلاق المنافسة القارية المقرر لها العام المقبل في الكاميرون.وقرر الكاف إجراء القرعة يوم 25 يونيو',\n",
       "  'url': 'http://www.elbotola.com/article/2021-04-01-19-11-909.html',\n",
       "  'source': 'Elbotola.com',\n",
       "  'image': None,\n",
       "  'category': 'general',\n",
       "  'language': 'ar',\n",
       "  'country': 'ma',\n",
       "  'published_at': '2021-04-01T19:11:21+00:00'},\n",
       " {'author': None,\n",
       "  'title': 'مواجهات بـ&quot;قنينات زجاجية&quot; بين جماهير &quot;إف سي خواريز&quot; و&quot;كروز أزول&quot;.. أعمال شغب في الدوري المكسيكي بعد السماح بعودة الأنصار للمدرجات',\n",
       "  'description': 'قررت السلطات المكسيكية، فتح المدرجات في وجه الجماهير، بالسماح بدخول 30% من الطاقة الاستيعابية للملاعب، إلا أن عودة الأنصار لم تكن بالطريقة المطلوبة، عندما استقبل \"إف سي خواريز\" ضيفه \"كروز أزول\"، برسم',\n",
       "  'url': 'http://www.elbotola.com/article/2021-04-03-11-15-493.html',\n",
       "  'source': 'Elbotola.com',\n",
       "  'image': None,\n",
       "  'category': 'general',\n",
       "  'language': 'ar',\n",
       "  'country': 'ma',\n",
       "  'published_at': '2021-04-03T11:16:09+00:00'},\n",
       " {'author': None,\n",
       "  'title': 'توريرا &quot;متأثرا&quot; بوفاة أمه: &quot;لم أعد أرغب في اللعب في أوروبا.. من الصعب أن نفهم أن والدتي لن تكون معنا بعد الآن&quot;',\n",
       "  'description': 'قال الأورغوياني لوكاس توريرا، إنه قرر عدم اللعب مجددا في أوروبا، واتخذ قرار العودة إلى قارته أمريكا اللاتينية، مباشرة بعد وفاة والدته، متأثرة بإصابتها بفيروس \"كورونا\".ويلعب توريرا حاليا في صفوف أتلتيك',\n",
       "  'url': 'http://www.elbotola.com/article/2021-04-02-19-21-268.html',\n",
       "  'source': 'Elbotola.com',\n",
       "  'image': None,\n",
       "  'category': 'general',\n",
       "  'language': 'ar',\n",
       "  'country': 'ma',\n",
       "  'published_at': '2021-04-02T20:46:20+00:00'},\n",
       " {'author': None,\n",
       "  'title': 'السجن 11 عامًا للاعب الكولومبي السابق &quot;فيافار&quot; بتهمة الاتجار في المخدرات و&quot;تورطه&quot; مع &quot;كارتيل سينالوا&quot;!',\n",
       "  'description': 'قضت محكمة في تكساس بالولايات المتحدة الأمريكية، أول أمس الخميس، بسجن اللاعب الكولومبي السابق، \"جون فيافارا\"، لمدة 135 شهرا، أي ما يزيد عن 11 عاما، بتهمة الاتجار في المخدرات.وحسب تقارير إعلامية، فإن ال',\n",
       "  'url': 'http://www.elbotola.com/article/2021-04-03-12-11-251.html',\n",
       "  'source': 'Elbotola.com',\n",
       "  'image': None,\n",
       "  'category': 'general',\n",
       "  'language': 'ar',\n",
       "  'country': 'ma',\n",
       "  'published_at': '2021-04-03T12:46:13+00:00'},\n",
       " {'author': None,\n",
       "  'title': 'السجن 15 شهرا لحكم في صربيا بعد &quot;تلاعبه&quot; بإحدى المباريات و&quot;حرمانه&quot; من التحكيم لـ 10 سنوات!',\n",
       "  'description': 'صدر حكم بسجن الحكم الصربي \"سريجان أوبرادوفيتش\"، لمدة 15 شهرا، بالإضافة إلى توقيفه عن ممارسة مهمته لـ 10 سنوات، إثر تأكد تلاعبه بإحدى المباريات في الدوري ببلاده، موسم 2017-2018.وحسب التقارير، فإن \"أوبر',\n",
       "  'url': 'http://www.elbotola.com/article/2021-04-02-16-33-798.html',\n",
       "  'source': 'Elbotola.com',\n",
       "  'image': None,\n",
       "  'category': 'general',\n",
       "  'language': 'ar',\n",
       "  'country': 'ma',\n",
       "  'published_at': '2021-04-02T16:41:24+00:00'},\n",
       " {'author': None,\n",
       "  'title': 'Maroc\\xa0: La légalisation et la signature certifiée conforme ne sont plus exigées',\n",
       "  'description': 'Il y a quelques jours, le département de la Réforme de l’administration a publié ses capsules de vulgarisation des dispositions de la loi 55.19 relative à la simplification des procédures et des formalités administratives.\\xa0«Que vous soyez un Marocain, un étranger résidant à l’intérieur ou à l’extérieur du royaume ou un investisseur, vous êtes appelés à interagir avec les communes, les administrations territoriales ou les établissements du service public. Généralement, cette opération prend un temps énorme, un grand effort et beaucoup de paperasse», reconnait-on dans...',\n",
       "  'url': 'https://www.yabiladi.com/articles/details/108105/maroc-legalisation-signature-certifiee-conforme.html',\n",
       "  'source': 'yabiladi.com',\n",
       "  'image': 'https://static.yabiladi.com/files/articles/a3c5d3006c691081b2aef105d1ac651f20210403140451150.jpg',\n",
       "  'category': 'general',\n",
       "  'language': 'ar',\n",
       "  'country': 'ma',\n",
       "  'published_at': '2021-04-03T12:48:00+00:00'},\n",
       " {'author': None,\n",
       "  'title': 'Lille : Le lycée Averroès remporte sa bataille judiciaire face à la région Hauts-de-France',\n",
       "  'description': 'Dans un verdict rendu mercredi 31 mars, le juge des référés du tribunal administratif de Lille a suspendu une décision prise en mars 2020 par le Conseil régional des Hauts-de-France refusant à l’association Averroès une subvention. «L’exécution de la décision du 2 mars 2020 refusant à l’association Averroès le versement du forfait d’externat dû au titre de l’année scolaire 2019/2020 et de la décision du 24 novembre 2020 refusant de procéder au retrait de la décision du 2 mars 2020 est suspendue, jusqu’à ce qu’il soit statué au fond sur leur légalité», lit-on...',\n",
       "  'url': 'https://www.yabiladi.com/articles/details/108103/lille-lycee-averroes-remporte-bataille.html',\n",
       "  'source': 'yabiladi.com',\n",
       "  'image': 'https://static.yabiladi.com/files/articles/60c4577041532d1df9da5f4fb698d97520210403132934150.jpg',\n",
       "  'category': 'general',\n",
       "  'language': 'ar',\n",
       "  'country': 'ma',\n",
       "  'published_at': '2021-04-03T12:57:00+00:00'},\n",
       " {'author': 'monjed jado',\n",
       "  'title': 'Israeli occupation authorities ban celebration for new freed Palestinian detainees',\n",
       "  'description': 'Bethlehem /PNN/ The day of freedom from prison is a special day for Palestinian political prisoners and their families. It is considered a national day where celebrations are held, and fireworks launched. Yet, according to Israeli laws against Palestinians of Jerusalem, freed prisoners of Jerusalem are not allowed to hold any kind of celebration, whether &#8230;التدوينة Israeli occupation authorities ban celebration for new freed Palestinian detainees ظهرت أولاً على PNN.',\n",
       "  'url': 'http://english.pnn.ps/2021/04/04/israeli-occupation-authorities-ban-celebration-for-new-freed-palestinian-detainees/',\n",
       "  'source': 'english',\n",
       "  'image': None,\n",
       "  'category': 'general',\n",
       "  'language': 'ar',\n",
       "  'country': 'ps',\n",
       "  'published_at': '2021-04-04T08:29:32+00:00'},\n",
       " {'author': 'SudanTribube.com',\n",
       "  'title': 'On the legitimacy of President Salva Kiir',\n",
       "  'description': 'by Dr Akec Khoc On March 24th 2021, Nhial Deng Nhial, Minister of Presidential affairs stated that President Salva Kiir is not imposing himself on the citizens. In response to this statement, I would like to make a short comment on why and how I disagree with the thesis advanced by the Minister, the official position of the regime. I and most South Sudanese citizens, inside and outside the country, believe President Kiir is actually imposing himself on the citizens and the Ruling Party (...)-Comment & Analysis',\n",
       "  'url': 'https://www.sudantribune.com/spip.php?article69399',\n",
       "  'source': 'Sudan Tribune',\n",
       "  'image': None,\n",
       "  'category': 'general',\n",
       "  'language': 'ar',\n",
       "  'country': 'sd',\n",
       "  'published_at': '2021-04-04T17:15:11+00:00'},\n",
       " {'author': None,\n",
       "  'title': 'مستغلا &quot;طرد&quot; سيلفا.. وست بروميتش يُلحق أول هزيمة بـ&quot;تشيلسي توخيل&quot; ويسجل 5 أهداف في شباكه',\n",
       "  'description': 'مُني تشيلسي يومه السبت، بأول خسارة تحت قيادة مدربه الألماني توماس توخيل، حيث انهزم بأربعة أهداف لهدفين (2-5) أمام ضيفه وست بروميتش ألبيون، على أرضية ملعب \"ستامفورد بريدج\"، برسم الجولة الـ 30 من الدوري',\n",
       "  'url': 'http://www.elbotola.com/article/2021-04-03-13-29-521.html',\n",
       "  'source': 'Elbotola.com',\n",
       "  'image': None,\n",
       "  'category': 'general',\n",
       "  'language': 'ar',\n",
       "  'country': 'ma',\n",
       "  'published_at': '2021-04-03T13:31:14+00:00'},\n",
       " {'author': None,\n",
       "  'title': 'بابتعاد الإنتر في صدارة الـ&quot;سيري آ&quot; بفارق 8 نقاط.. حكيمي يُغرّد: &quot;خطوة أخرى ونواصل التقدّم&quot;',\n",
       "  'description': 'يسير نادي الإنتر بثبات لمعانقة لقب الدوري الإيطالي للمرة الأولى منذ 11 سنة، حيث يواصل تصدره للترتيب العام برصيد 68 نقطة، وبفارق 8 نقاط عن ميلان صاحب المركز الثاني، مع \"مباراة ناقصة\" سيخوضها أمام ساسول',\n",
       "  'url': 'http://www.elbotola.com/article/2021-04-04-10-36-442.html',\n",
       "  'source': 'Elbotola.com',\n",
       "  'image': None,\n",
       "  'category': 'general',\n",
       "  'language': 'ar',\n",
       "  'country': 'ma',\n",
       "  'published_at': '2021-04-04T11:01:08+00:00'}]"
      ]
     },
     "execution_count": 7,
     "metadata": {},
     "output_type": "execute_result"
    }
   ],
   "source": [
    "json['data']"
   ]
  },
  {
   "cell_type": "code",
   "execution_count": 8,
   "id": "618e7020",
   "metadata": {},
   "outputs": [],
   "source": [
    "#request to get only news from CNN:\n",
    "\n",
    "response_CNN = requests.get('http://api.mediastack.com/v1/news?access_key='+ key +'&sources=cnn&limit=100')"
   ]
  },
  {
   "cell_type": "code",
   "execution_count": 9,
   "id": "c6f92d1a",
   "metadata": {},
   "outputs": [],
   "source": [
    "jsonCNN = response_CNN.json()"
   ]
  },
  {
   "cell_type": "code",
   "execution_count": 10,
   "id": "70470ff1",
   "metadata": {},
   "outputs": [
    {
     "data": {
      "text/plain": [
       "{'pagination': {'limit': 100, 'offset': 0, 'count': 100, 'total': 10000},\n",
       " 'data': [{'author': None,\n",
       "   'title': '5 cards charging 0% interest until 2022',\n",
       "   'description': '',\n",
       "   'url': 'http://rss.cnn.com/~r/rss/cnn_topstories/~3/iCXE2OoMaLM/pay-0-interest-2022',\n",
       "   'source': 'CNN',\n",
       "   'image': None,\n",
       "   'category': 'general',\n",
       "   'language': 'en',\n",
       "   'country': 'us',\n",
       "   'published_at': '2021-04-16T08:25:04+00:00'},\n",
       "  {'author': None,\n",
       "   'title': 'Prince Philip Fast Facts',\n",
       "   'description': \"Read CNN's Fast Fact on Great Britain's Prince Philip (Duke of Edinburgh), husband of Queen Elizabeth II and the great-great grandchild of Queen Victoria.\",\n",
       "   'url': 'http://rss.cnn.com/~r/rss/edition_europe/~3/-ko4YpCXuaU/index.html',\n",
       "   'source': 'CNN Europe',\n",
       "   'image': 'https://cdn.cnn.com/cnnnext/dam/assets/120815030010-prince-philip-vertical-large-gallery.jpg',\n",
       "   'category': 'general',\n",
       "   'language': 'en',\n",
       "   'country': 'us',\n",
       "   'published_at': '2021-04-16T11:55:25+00:00'},\n",
       "  {'author': None,\n",
       "   'title': 'Top sales to shop right now: Nordstrom Rack, Vitamix and more',\n",
       "   'description': '',\n",
       "   'url': 'http://rss.cnn.com/~r/rss/cnn_topstories/~3/GORUe4zoMq8/index.html',\n",
       "   'source': 'CNN',\n",
       "   'image': None,\n",
       "   'category': 'general',\n",
       "   'language': 'en',\n",
       "   'country': 'us',\n",
       "   'published_at': '2021-04-16T15:45:03+00:00'},\n",
       "  {'author': None,\n",
       "   'title': \"Become a millennial rental property owner with just one click with Roofstock's marketplace\",\n",
       "   'description': \"For anyone trying to plan a safe, stable future for themselves and their potential family, the pandemic, politics and the GameStop stock saga make it tempting to throw their hands up in the air and put everything in lottery tickets. (Don't do this!)\",\n",
       "   'url': 'http://rss.cnn.com/~r/rss/cnn_latest/~3/1zH88WR-0Z0/index.html',\n",
       "   'source': 'CNN',\n",
       "   'image': 'https://cdn.cnn.com/cnnnext/dam/assets/210416135000-roofstock-paid-super-169.jpg',\n",
       "   'category': 'general',\n",
       "   'language': 'en',\n",
       "   'country': 'us',\n",
       "   'published_at': '2021-04-16T20:06:20+00:00'},\n",
       "  {'author': None,\n",
       "   'title': 'Runaway cement mixer had brake failure',\n",
       "   'description': '',\n",
       "   'url': 'http://rss.cnn.com/~r/rss/edition_us/~3/0kbKx4ZC3vA/',\n",
       "   'source': 'CNN US',\n",
       "   'image': None,\n",
       "   'category': 'general',\n",
       "   'language': 'en',\n",
       "   'country': 'us',\n",
       "   'published_at': '2021-04-16T23:45:03+00:00'},\n",
       "  {'author': None,\n",
       "   'title': '2 lions positive for COVID-19 at zoo',\n",
       "   'description': '',\n",
       "   'url': 'http://rss.cnn.com/~r/rss/edition_us/~3/E2p5B8NDyqs/',\n",
       "   'source': 'CNN US',\n",
       "   'image': None,\n",
       "   'category': 'general',\n",
       "   'language': 'en',\n",
       "   'country': 'us',\n",
       "   'published_at': '2021-04-17T00:35:04+00:00'},\n",
       "  {'author': None,\n",
       "   'title': 'Child molestation investigation at summer camp',\n",
       "   'description': '',\n",
       "   'url': 'http://rss.cnn.com/~r/rss/edition_us/~3/RwLH9b9JUWU/article_bf798fa6-9f04-11eb-b0c9-bf696e3b7fa6.html',\n",
       "   'source': 'CNN US',\n",
       "   'image': None,\n",
       "   'category': 'general',\n",
       "   'language': 'en',\n",
       "   'country': 'us',\n",
       "   'published_at': '2021-04-17T00:35:04+00:00'},\n",
       "  {'author': None,\n",
       "   'title': \"60 years after the Bay of Pigs invasion, many Cuban Americans' distrust of the Democratic Party still affects national politics\",\n",
       "   'description': 'For many, it is a historical footnote. A bit of trivia from a bygone era. A failed Cold War operation known as one of the biggest blunders in the history of US intelligence operations.',\n",
       "   'url': 'http://rss.cnn.com/~r/rss/cnn_latest/~3/_P6HDhfO0l0/index.html',\n",
       "   'source': 'CNN',\n",
       "   'image': 'https://cdn.cnn.com/cnnnext/dam/assets/210416164812-05-bay-of-pigs-60-years-super-169.jpg',\n",
       "   'category': 'general',\n",
       "   'language': 'en',\n",
       "   'country': 'us',\n",
       "   'published_at': '2021-04-17T13:49:02+00:00'},\n",
       "  {'author': None,\n",
       "   'title': 'What is Dogecoin? How a joke became hotter than bitcoin',\n",
       "   'description': 'Dogecoin is the hottest, quirkiest cryptocurrency on the planet.',\n",
       "   'url': 'http://rss.cnn.com/~r/rss/cnn_latest/~3/cNTppP5y-AI/index.html',\n",
       "   'source': 'CNN',\n",
       "   'image': 'https://cdn.cnn.com/cnnnext/dam/assets/210414121716-doge-coin-super-169.jpg',\n",
       "   'category': 'general',\n",
       "   'language': 'en',\n",
       "   'country': 'us',\n",
       "   'published_at': '2021-04-17T13:48:27+00:00'},\n",
       "  {'author': None,\n",
       "   'title': 'The political aftermath of the failed Bay of Pigs invasion is still playing out, decades later',\n",
       "   'description': 'For many, it is a historical footnote. A bit of trivia from a bygone era. A failed Cold War operation known as one of the biggest blunders in the history of US intelligence operations.',\n",
       "   'url': 'http://rss.cnn.com/~r/rss/cnn_topstories/~3/_P6HDhfO0l0/index.html',\n",
       "   'source': 'CNN',\n",
       "   'image': 'https://cdn.cnn.com/cnnnext/dam/assets/210416164812-05-bay-of-pigs-60-years-super-169.jpg',\n",
       "   'category': 'general',\n",
       "   'language': 'en',\n",
       "   'country': 'us',\n",
       "   'published_at': '2021-04-17T13:48:01+00:00'},\n",
       "  {'author': None,\n",
       "   'title': \"Amid GOP blowback, Rep. Greene scraps planned launch of 'America First' caucus\",\n",
       "   'description': 'Conservative Rep. Marjorie Taylor Greene is scrapping the planned launch of her \"America First\" caucus after receiving blowback from leaders in her own party, despite confirming through a spokesperson on Friday that the caucus would launch.',\n",
       "   'url': 'http://rss.cnn.com/~r/rss/cnn_topstories/~3/-HaQkCSMr2g/index.html',\n",
       "   'source': 'CNN',\n",
       "   'image': 'https://cdn.cnn.com/cnnnext/dam/assets/210310143921-marjorie-taylor-greene-march-10-2021-01-super-169.jpg',\n",
       "   'category': 'general',\n",
       "   'language': 'en',\n",
       "   'country': 'us',\n",
       "   'published_at': '2021-04-17T20:25:34+00:00'},\n",
       "  {'author': None,\n",
       "   'title': 'Jaleel White is launching his own cannabis brand',\n",
       "   'description': 'Actor Jaleel White is joining the growing list of celebrities who have launched a cannabis brand.',\n",
       "   'url': 'http://rss.cnn.com/~r/rss/edition_us/~3/6lhoDyjpRls/index.html',\n",
       "   'source': 'CNN US',\n",
       "   'image': 'https://cdn.cnn.com/cnnnext/dam/assets/210417160032-jaleel-white-purple-urkel-cannabis-trnd-restricted-super-169.jpg',\n",
       "   'category': 'general',\n",
       "   'language': 'en',\n",
       "   'country': 'us',\n",
       "   'published_at': '2021-04-18T11:40:16+00:00'},\n",
       "  {'author': None,\n",
       "   'title': 'Raul Castro Fast Facts',\n",
       "   'description': \"Read CNN's Fast Facts about Raul Castro, the former President of Cuba and the brother of former President Fidel Castro.\",\n",
       "   'url': 'http://rss.cnn.com/~r/rss/cnn_latest/~3/nbK-TfWWI0k/index.html',\n",
       "   'source': 'CNN',\n",
       "   'image': 'https://cdn.cnn.com/cnnnext/dam/assets/141217122831-raul-castro-super-169.jpg',\n",
       "   'category': 'general',\n",
       "   'language': 'en',\n",
       "   'country': 'us',\n",
       "   'published_at': '2021-04-18T12:47:28+00:00'},\n",
       "  {'author': None,\n",
       "   'title': 'Mars helicopter Ingenuity successfully completed its historic first flight',\n",
       "   'description': 'The Ingenuity helicopter has attempted its historic flight on Mars, and now teams are waiting to learn whether it was successful.',\n",
       "   'url': 'http://rss.cnn.com/~r/rss/cnn_topstories/~3/BVwgnFlaKmo/index.html',\n",
       "   'source': 'CNN',\n",
       "   'image': 'https://cdn.cnn.com/cnnnext/dam/assets/210409131224-01-mars-ingenuity-helicopter-blades-super-169.jpeg',\n",
       "   'category': 'general',\n",
       "   'language': 'en',\n",
       "   'country': 'us',\n",
       "   'published_at': '2021-04-19T11:35:37+00:00'},\n",
       "  {'author': None,\n",
       "   'title': 'A shooter is on the run in Paris after killing one',\n",
       "   'description': \"One person was killed and one critically injured in a targeted shooting outside a Paris hospital on Monday, the city prosecutor's office told CNN.\",\n",
       "   'url': 'http://rss.cnn.com/~r/rss/edition_europe/~3/yisds3N6lpw/index.html',\n",
       "   'source': 'CNN Europe',\n",
       "   'image': 'https://cdn.cnn.com/cnnnext/dam/assets/210412085208-01-paris-shooting-0412-super-169.jpg',\n",
       "   'category': 'general',\n",
       "   'language': 'en',\n",
       "   'country': 'us',\n",
       "   'published_at': '2021-04-19T13:10:23+00:00'},\n",
       "  {'author': None,\n",
       "   'title': \"The close of the trial will contrast the prosecution's concise case with a more complex defense\",\n",
       "   'description': '',\n",
       "   'url': 'http://rss.cnn.com/~r/rss/cnn_topstories/~3/xR18u3Ij98M/h_9cf3cb32bf0d4972dd2918d8ff740c9a',\n",
       "   'source': 'CNN',\n",
       "   'image': 'https://cdn.cnn.com/cnnnext/dam/assets/210415103341-02-derek-chauvin-trial-0415-super-169.jpg',\n",
       "   'category': 'general',\n",
       "   'language': 'en',\n",
       "   'country': 'us',\n",
       "   'published_at': '2021-04-19T13:50:04+00:00'},\n",
       "  {'author': None,\n",
       "   'title': 'The best sales to shop today: Best Buy, Roomba, Eero and more',\n",
       "   'description': \"Today, you'll find a deal on the Fitbit Inspire 2, a discounted Eero Mesh Wi-Fi System and savings on a range of Roomba robot vacuums. All that and more below.\",\n",
       "   'url': 'http://rss.cnn.com/~r/rss/cnn_latest/~3/EJoRLiSeTIU/index.html',\n",
       "   'source': 'CNN',\n",
       "   'image': 'https://cdn.cnn.com/cnnnext/dam/assets/210419110504-best-buy-super-169.jpg',\n",
       "   'category': 'general',\n",
       "   'language': 'en',\n",
       "   'country': 'us',\n",
       "   'published_at': '2021-04-19T15:51:37+00:00'},\n",
       "  {'author': None,\n",
       "   'title': 'Your complete guide to spring cleaning',\n",
       "   'description': '',\n",
       "   'url': 'http://rss.cnn.com/~r/rss/cnn_topstories/~3/sEijDREWAss/index.html',\n",
       "   'source': 'CNN',\n",
       "   'image': 'https://cdn.cnn.com/cnnnext/dam/assets/210416125431-springcleaninglead-super-169.jpg',\n",
       "   'category': 'general',\n",
       "   'language': 'en',\n",
       "   'country': 'us',\n",
       "   'published_at': '2021-04-19T17:35:04+00:00'},\n",
       "  {'author': None,\n",
       "   'title': 'Army preparing to approve DC request for National Guard ahead of verdict in Derek Chauvin trial',\n",
       "   'description': 'The Army is preparing to approve a request for DC National Guard forces to deploy as soon as Monday night if there is unrest in the wake of the verdict in the Derek Chauvin trial, according to a US defense official.',\n",
       "   'url': 'http://rss.cnn.com/~r/rss/cnn_topstories/~3/265xxiii-Ig/index.html',\n",
       "   'source': 'CNN',\n",
       "   'image': 'https://cdn.cnn.com/cnnnext/dam/assets/210419134711-dc-national-guard-restricted-super-169.jpg',\n",
       "   'category': 'general',\n",
       "   'language': 'en',\n",
       "   'country': 'us',\n",
       "   'published_at': '2021-04-19T20:25:30+00:00'},\n",
       "  {'author': None,\n",
       "   'title': \"Anderson Cooper gets advice from Ken Jennings before guest-hosting 'Jeopardy!'\",\n",
       "   'description': 'Anderson Cooper is turning to the \"Jeopardy!\" G.O.A.T. Ken Jennings for some advice on his guest-hosting gig for charity.',\n",
       "   'url': 'http://rss.cnn.com/~r/rss/cnn_topstories/~3/5-Iod8PyU3k/index.html',\n",
       "   'source': 'CNN',\n",
       "   'image': 'https://cdn.cnn.com/cnnnext/dam/assets/210419132116-anderson-cooper-ken-jennings-split-super-169.jpg',\n",
       "   'category': 'general',\n",
       "   'language': 'en',\n",
       "   'country': 'us',\n",
       "   'published_at': '2021-04-19T22:27:30+00:00'},\n",
       "  {'author': None,\n",
       "   'title': \"George Floyd's brother bonds with Emmett Till's cousin over brutal, public deaths decades apart\",\n",
       "   'description': \"When Deborah Watts met Philonise Floyd\\u202fthey already knew each other's pain without saying a word.\\u202f In a CNN interview, they found a kinship amid their grief and a shared determination to fight for justice.\",\n",
       "   'url': 'http://rss.cnn.com/~r/rss/cnn_latest/~3/-GhMtbnih28/index.html',\n",
       "   'source': 'CNN',\n",
       "   'image': 'https://cdn.cnn.com/cnnnext/dam/assets/210412040539-daunte-wright-super-169.jpg',\n",
       "   'category': 'general',\n",
       "   'language': 'en',\n",
       "   'country': 'us',\n",
       "   'published_at': '2021-04-20T00:12:31+00:00'},\n",
       "  {'author': None,\n",
       "   'title': 'Blue Nature Alliance aims to restore 7 million square miles of ocean in five years',\n",
       "   'description': \"An ambitious mission to protect 5% of the world's ocean in five years launched on Tuesday. The program is a collaboration between non-profits including Conservation International and The Pew Charitable Trusts.\",\n",
       "   'url': 'http://rss.cnn.com/~r/rss/cnn_latest/~3/lz9895wbjyU/index.html',\n",
       "   'source': 'CNN',\n",
       "   'image': 'https://cdn.cnn.com/cnnnext/dam/assets/210419133121-01-blue-nature-alliance-restricted-super-169.jpg',\n",
       "   'category': 'general',\n",
       "   'language': 'en',\n",
       "   'country': 'us',\n",
       "   'published_at': '2021-04-20T13:05:22+00:00'},\n",
       "  {'author': None,\n",
       "   'title': 'Andrew Yang video triggers backlash',\n",
       "   'description': '',\n",
       "   'url': 'http://rss.cnn.com/~r/rss/edition_us/~3/qhTSORriKZ0/',\n",
       "   'source': 'CNN US',\n",
       "   'image': None,\n",
       "   'category': 'general',\n",
       "   'language': 'en',\n",
       "   'country': 'us',\n",
       "   'published_at': '2021-04-16T02:05:04+00:00'},\n",
       "  {'author': None,\n",
       "   'title': 'The best sleep mask of 2021',\n",
       "   'description': 'Over the course of a month, we tested sleep eight sleep masks for design, how much light each filtered out and comfortability to find the best option out there. Ultimately, one won us over for its dream-inducing design choices.',\n",
       "   'url': 'http://rss.cnn.com/~r/rss/cnn_latest/~3/CKjY1pgl_Qg/index.html',\n",
       "   'source': 'CNN',\n",
       "   'image': 'https://cdn.cnn.com/cnnnext/dam/assets/210416111645-best-sleep-mask-lead-super-169.jpg',\n",
       "   'category': 'general',\n",
       "   'language': 'en',\n",
       "   'country': 'us',\n",
       "   'published_at': '2021-04-16T18:37:28+00:00'},\n",
       "  {'author': None,\n",
       "   'title': \"Biden calls gun violence 'a national embarrassment' and order flags to half-staff after another mass shooting\",\n",
       "   'description': 'President Joe Biden deemed the recent spate of mass shooting a \"national embarrassment\" on Friday, hours after he ordered flags to be lowered to half-staff on Friday in the wake of the mass shooting at an Indianapolis FedEx facility that killed at least eight people.',\n",
       "   'url': 'http://rss.cnn.com/~r/rss/cnn_latest/~3/tT1KgMKeqrM/index.html',\n",
       "   'source': 'CNN',\n",
       "   'image': 'https://cdn.cnn.com/cnnnext/dam/assets/210416010826-02-indianapolis-fedex-shooting-0416-super-169.jpg',\n",
       "   'category': 'general',\n",
       "   'language': 'en',\n",
       "   'country': 'us',\n",
       "   'published_at': '2021-04-16T22:12:09+00:00'},\n",
       "  {'author': None,\n",
       "   'title': 'Surprise conception: Woman conceives second child while carrying first',\n",
       "   'description': 'In what a British couple calls their \"medical marvel,\" a woman got pregnant with a second child while already pregnant. Called superfetation, there may be fewer than a dozen recorded cases of the phenomenon in the world.',\n",
       "   'url': 'http://rss.cnn.com/~r/rss/cnn_latest/~3/HChfqSTqNOI/index.html',\n",
       "   'source': 'CNN',\n",
       "   'image': 'https://cdn.cnn.com/cnnnext/dam/assets/210416155945-02-rebecca-roberts-twins-super-169.jpg',\n",
       "   'category': 'general',\n",
       "   'language': 'en',\n",
       "   'country': 'us',\n",
       "   'published_at': '2021-04-16T23:05:27+00:00'},\n",
       "  {'author': None,\n",
       "   'title': 'Myanmar releases prisoners for New Year, though likely not dissidents',\n",
       "   'description': 'Authorities in Myanmar will release 23,184 prisoners from jails across the country on Saturday under a New Year amnesty, a Prisons Department spokesman said.',\n",
       "   'url': 'http://rss.cnn.com/~r/rss/edition_asia/~3/98fxD3Cb-d8/index.html',\n",
       "   'source': 'CNN Asia',\n",
       "   'image': 'https://cdn.cnn.com/cnnnext/dam/assets/210411214127-02-myanmar-unrest-0411-super-169.jpg',\n",
       "   'category': 'general',\n",
       "   'language': 'en',\n",
       "   'country': 'us',\n",
       "   'published_at': '2021-04-17T05:30:30+00:00'},\n",
       "  {'author': None,\n",
       "   'title': 'Indianapolis was already seeing a rising number of homicides when a gunman killed 8 at a FedEx facility',\n",
       "   'description': 'When a gunman killed eight people and wounded several others at a FedEx facility in Indianapolis on Thursday night, the city was already experiencing a plague of rising homicides.',\n",
       "   'url': 'http://rss.cnn.com/~r/rss/cnn_latest/~3/Dr1dVbh7N34/index.html',\n",
       "   'source': 'CNN',\n",
       "   'image': 'https://cdn.cnn.com/cnnnext/dam/assets/210416102310-12-indianapolis-shooting-0416-super-169.jpg',\n",
       "   'category': 'general',\n",
       "   'language': 'en',\n",
       "   'country': 'us',\n",
       "   'published_at': '2021-04-17T08:00:09+00:00'},\n",
       "  {'author': None,\n",
       "   'title': 'How a thunderstorm with the power of a hurricane capsized a ship',\n",
       "   'description': 'Nineteen people were on board a commercial ship when it capsized Tuesday during a thunderstorm off the Louisiana coast. But this was no ordinary storm.',\n",
       "   'url': 'http://rss.cnn.com/~r/rss/cnn_latest/~3/tCHxheK52AA/index.html',\n",
       "   'source': 'CNN',\n",
       "   'image': 'https://cdn.cnn.com/cnnnext/dam/assets/210414001312-01-louisiana-capsize-0413-super-169.jpg',\n",
       "   'category': 'general',\n",
       "   'language': 'en',\n",
       "   'country': 'us',\n",
       "   'published_at': '2021-04-17T09:45:38+00:00'},\n",
       "  {'author': None,\n",
       "   'title': 'Prince Philips will be laid to rest today',\n",
       "   'description': '• Senior members of the royal family will attend the funeral • Watch the funeral live • Photos: Prince Philip over the decades • How the Queen will say goodbye to Philip',\n",
       "   'url': 'http://rss.cnn.com/~r/rss/cnn_topstories/~3/kajKovqnIQs/index.html',\n",
       "   'source': 'CNN',\n",
       "   'image': 'https://cdn.cnn.com/cnnnext/dam/assets/180720150603-06-prince-philip-lead-image-2017-super-169.jpg',\n",
       "   'category': 'general',\n",
       "   'language': 'en',\n",
       "   'country': 'us',\n",
       "   'published_at': '2021-04-17T13:10:05+00:00'},\n",
       "  {'author': None,\n",
       "   'title': 'Philippines seizes fossilized giant clam shells worth $25 million',\n",
       "   'description': 'The Philippines is shell-ebrating after it seized Friday more than 150 tons (coast guard says 200, PCSD says 150) of fossilzed giant clams worth nearly $25 million.',\n",
       "   'url': 'http://rss.cnn.com/~r/rss/edition_asia/~3/4YGtAcHUUec/index.html',\n",
       "   'source': 'CNN Asia',\n",
       "   'image': 'https://cdn.cnn.com/cnnnext/dam/assets/210417105533-restricted-giant-clam-shells-philippines-0416-super-169.jpg',\n",
       "   'category': 'general',\n",
       "   'language': 'en',\n",
       "   'country': 'us',\n",
       "   'published_at': '2021-04-17T17:55:30+00:00'},\n",
       "  {'author': None,\n",
       "   'title': 'Two more bodies identified as search continues for missing crew of ship that capsized off Louisiana coast',\n",
       "   'description': 'The bodies of two men found inside a commercial vessel that capsized earlier this week off the Louisiana coast have been identified.',\n",
       "   'url': 'http://rss.cnn.com/~r/rss/cnn_latest/~3/82KKWqmbEaM/index.html',\n",
       "   'source': 'CNN',\n",
       "   'image': 'https://cdn.cnn.com/cnnnext/dam/assets/210417134912-02-louisiana-coast-capsized-vessel-bodies-identified-super-169.jpg',\n",
       "   'category': 'general',\n",
       "   'language': 'en',\n",
       "   'country': 'us',\n",
       "   'published_at': '2021-04-17T20:01:13+00:00'},\n",
       "  {'author': None,\n",
       "   'title': 'U Of M finds farmers in a near-record crop yield',\n",
       "   'description': '',\n",
       "   'url': 'http://rss.cnn.com/~r/rss/edition_us/~3/sthEXdEirEo/',\n",
       "   'source': 'CNN US',\n",
       "   'image': None,\n",
       "   'category': 'general',\n",
       "   'language': 'en',\n",
       "   'country': 'us',\n",
       "   'published_at': '2021-04-17T21:45:03+00:00'},\n",
       "  {'author': None,\n",
       "   'title': 'Unlikely friendship: 5-year-old girl, UPS driver share special bond',\n",
       "   'description': '',\n",
       "   'url': 'http://rss.cnn.com/~r/rss/edition_us/~3/wHLSIzw1o3A/36148790',\n",
       "   'source': 'CNN US',\n",
       "   'image': 'https://cdn.cnn.com/cnnnext/dam/assets/210418140341-fedex-girl-super-169.jpg',\n",
       "   'category': 'general',\n",
       "   'language': 'en',\n",
       "   'country': 'us',\n",
       "   'published_at': '2021-04-18T18:25:03+00:00'},\n",
       "  {'author': None,\n",
       "   'title': 'Citywide cleanup event targets 35 parks',\n",
       "   'description': '',\n",
       "   'url': 'http://rss.cnn.com/~r/rss/edition_us/~3/Jht5jgyC5fo/citywide-cleanup-event-targets-35-parks-in-grand-rapids',\n",
       "   'source': 'CNN US',\n",
       "   'image': None,\n",
       "   'category': 'general',\n",
       "   'language': 'en',\n",
       "   'country': 'us',\n",
       "   'published_at': '2021-04-18T18:25:03+00:00'},\n",
       "  {'author': None,\n",
       "   'title': 'High school rallies for senior with brain cancer',\n",
       "   'description': '',\n",
       "   'url': 'http://rss.cnn.com/~r/rss/edition_us/~3/5UXVNV1Szvs/sycamore-high-rallies-behind-senior-diagnosed-with-brain-cancer',\n",
       "   'source': 'CNN US',\n",
       "   'image': None,\n",
       "   'category': 'general',\n",
       "   'language': 'en',\n",
       "   'country': 'us',\n",
       "   'published_at': '2021-04-18T18:25:03+00:00'},\n",
       "  {'author': None,\n",
       "   'title': 'Family rebuilds after house fire during funeral',\n",
       "   'description': '',\n",
       "   'url': 'http://rss.cnn.com/~r/rss/edition_us/~3/ALvuzofM4RQ/detroit-family-rebuilds-after-house-fire-during-fathers-funeral',\n",
       "   'source': 'CNN US',\n",
       "   'image': None,\n",
       "   'category': 'general',\n",
       "   'language': 'en',\n",
       "   'country': 'us',\n",
       "   'published_at': '2021-04-18T18:25:03+00:00'},\n",
       "  {'author': None,\n",
       "   'title': 'St. Vincent suffers power outage after La Soufrière volcano erupts',\n",
       "   'description': 'There has been a massive power outage on the Caribbean island of St. Vincent where La Soufrière volcano began erupting Friday, St. Vincent and the Grenadines National Emergency Management Organization reported Sunday.',\n",
       "   'url': 'http://rss.cnn.com/~r/rss/edition_americas/~3/Ai_tXxCL8fw/index.html',\n",
       "   'source': 'CNN Americas',\n",
       "   'image': 'https://cdn.cnn.com/cnnnext/dam/assets/210412080637-st-vincent-eruption-kingstown-soldiers-super-169.jpg',\n",
       "   'category': 'general',\n",
       "   'language': 'en',\n",
       "   'country': 'us',\n",
       "   'published_at': '2021-04-18T21:10:04+00:00'},\n",
       "  {'author': None,\n",
       "   'title': 'White House to promote vaccine eligibility with media blitz',\n",
       "   'description': \"As all Americans 16 years and older become eligible for the vaccine on Monday, the White House is launching a media blitz to raise awareness about Americans' vaccine eligibility, an administration official said.\",\n",
       "   'url': 'http://rss.cnn.com/~r/rss/cnn_latest/~3/Jd6cALpqAto/index.html',\n",
       "   'source': 'CNN',\n",
       "   'image': 'https://cdn.cnn.com/cnnnext/dam/assets/210418164209-covid-vaccine-equity-white-house-super-169.jpg',\n",
       "   'category': 'general',\n",
       "   'language': 'en',\n",
       "   'country': 'us',\n",
       "   'published_at': '2021-04-18T23:32:24+00:00'},\n",
       "  {'author': None,\n",
       "   'title': \"Mexico's President will propose a migration agreement during US climate summit\",\n",
       "   'description': \"Mexico's President Andrés Manuel López Obrador will propose a new migration agreement between the countries of North and Central America this week, he announced on Sunday.\",\n",
       "   'url': 'http://rss.cnn.com/~r/rss/edition_americas/~3/Lx_5kTJFS8Y/index.html',\n",
       "   'source': 'CNN Americas',\n",
       "   'image': 'https://cdn.cnn.com/cnnnext/dam/assets/210418173000-amlo-propuesta-migratoria-parcela-visas-sot-00002009-super-169.jpg',\n",
       "   'category': 'general',\n",
       "   'language': 'en',\n",
       "   'country': 'us',\n",
       "   'published_at': '2021-04-19T00:00:04+00:00'},\n",
       "  {'author': None,\n",
       "   'title': \"Myanmar's military is charging families $85 to retrieve bodies of relatives killed in crackdown\",\n",
       "   'description': \"Myanmar's military is charging families $85 to retrieve the bodies of relatives killed by security forces in a bloody crackdown on Friday.\",\n",
       "   'url': 'http://rss.cnn.com/~r/rss/edition_asia/~3/w9Y42Y4PfuM/index.html',\n",
       "   'source': 'CNN Asia',\n",
       "   'image': 'https://cdn.cnn.com/cnnnext/dam/assets/210411214421-02-myanmar-unrest-0409-super-169.jpg',\n",
       "   'category': 'general',\n",
       "   'language': 'en',\n",
       "   'country': 'us',\n",
       "   'published_at': '2021-04-19T03:25:28+00:00'},\n",
       "  {'author': None,\n",
       "   'title': 'Health officials considered issuing a warning before deciding to recommend a pause of the Johnson & Johnson Covid-19 vaccine',\n",
       "   'description': \"As health officials discussed how to handle reports of blood clots possibly linked to Johnson & Johnson's Covid-19 vaccine, one option considered was issuing a warning to health care providers without recommending a full pause, multiple sources told CNN.\",\n",
       "   'url': 'http://rss.cnn.com/~r/rss/cnn_latest/~3/53hYHkQ7IFc/index.html',\n",
       "   'source': 'CNN',\n",
       "   'image': 'https://cdn.cnn.com/cnnnext/dam/assets/210416133910-johnson-and-jonson-vaccine-march-03-super-169.jpg',\n",
       "   'category': 'general',\n",
       "   'language': 'en',\n",
       "   'country': 'us',\n",
       "   'published_at': '2021-04-19T13:39:05+00:00'},\n",
       "  {'author': None,\n",
       "   'title': 'Australian Open fans criticized for booing Covid-19 vaccine announcement',\n",
       "   'description': 'Australia\\'s government has condemned the \"disgusting\" behavior of spectators at the Australian Open tennis tournament Sunday, after sections of the crowd loudly booed a speech praising the rollout of the Covid-19 vaccine.',\n",
       "   'url': 'http://rss.cnn.com/~r/rss/edition_tennis/~3/5M70g-agJpg/index.html',\n",
       "   'source': 'CNN Tennis',\n",
       "   'image': 'https://cdn.cnn.com/cnnnext/dam/assets/210221223225-jayne-hrdlicka-aus-open-super-169.jpg',\n",
       "   'category': 'sports',\n",
       "   'language': 'en',\n",
       "   'country': 'us',\n",
       "   'published_at': '2021-04-19T17:05:31+00:00'},\n",
       "  {'author': None,\n",
       "   'title': 'Daniil Medvedev advances to debut Australian Open final with dominant win over Stefanos Tsitsipas',\n",
       "   'description': 'Daniil Medvedev produced an impressive display against world No. 6 Stefanos Tsitsipas to advance to the final of the Australian Open.',\n",
       "   'url': 'http://rss.cnn.com/~r/rss/edition_tennis/~3/TAY2kwpOFbs/index.html',\n",
       "   'source': 'CNN Tennis',\n",
       "   'image': 'https://cdn.cnn.com/cnnnext/dam/assets/210219101515-03-aus-open-0219-daniil-medvedev-super-169.jpg',\n",
       "   'category': 'sports',\n",
       "   'language': 'en',\n",
       "   'country': 'us',\n",
       "   'published_at': '2021-04-19T17:05:31+00:00'},\n",
       "  {'author': None,\n",
       "   'title': 'UFO-looking object stumps Akron motorists',\n",
       "   'description': '',\n",
       "   'url': 'http://rss.cnn.com/~r/rss/edition_us/~3/A8CRbO4E4K8/strange-dome-shaped-ufo-looking-object-stumps-akron-motorists',\n",
       "   'source': 'CNN US',\n",
       "   'image': None,\n",
       "   'category': 'general',\n",
       "   'language': 'en',\n",
       "   'country': 'us',\n",
       "   'published_at': '2021-04-19T20:00:04+00:00'},\n",
       "  {'author': None,\n",
       "   'title': 'Risk of coronavirus spreading on surfaces is low, CDC says',\n",
       "   'description': '',\n",
       "   'url': 'http://rss.cnn.com/~r/rss/cnn_topstories/~3/Ps14NC-DA1g/h_1fafbf0f273a29fb6dc63ede3e64f4c1',\n",
       "   'source': 'CNN',\n",
       "   'image': None,\n",
       "   'category': 'general',\n",
       "   'language': 'en',\n",
       "   'country': 'us',\n",
       "   'published_at': '2021-04-19T20:45:03+00:00'},\n",
       "  {'author': None,\n",
       "   'title': \"Judge in Chauvin trial says Maxine Waters' comments may be grounds for appeal\",\n",
       "   'description': \"• Analysis: Maxine Waters just inflamed a very volatile situation• Rep. Maxine Waters calls for protesters to 'get more confrontational' if no guilty verdict is reached in Chauvin trial\",\n",
       "   'url': 'http://rss.cnn.com/~r/rss/cnn_topstories/~3/OUixshkZE08/index.html',\n",
       "   'source': 'CNN',\n",
       "   'image': 'https://cdn.cnn.com/cnnnext/dam/assets/210419172110-judge-peter-cahill-super-169.jpg',\n",
       "   'category': 'general',\n",
       "   'language': 'en',\n",
       "   'country': 'us',\n",
       "   'published_at': '2021-04-19T23:06:20+00:00'},\n",
       "  {'author': None,\n",
       "   'title': 'Rwanda says France bears responsibility for enabling 1994 genocide',\n",
       "   'description': 'France was aware that a genocide was being prepared in Rwanda ahead of the 1994 killings and the French government bore a significant responsibility for enabling it, the Rwandan government said in a report published on Monday.',\n",
       "   'url': 'http://rss.cnn.com/~r/rss/cnn_latest/~3/M8vDl6LOHu4/index.html',\n",
       "   'source': 'CNN',\n",
       "   'image': 'https://cdn.cnn.com/cnnnext/dam/assets/210420093355-rwanda-genocide-memorial-0407-super-169.jpg',\n",
       "   'category': 'general',\n",
       "   'language': 'en',\n",
       "   'country': 'us',\n",
       "   'published_at': '2021-04-20T10:50:36+00:00'},\n",
       "  {'author': None,\n",
       "   'title': 'The trouble with maskless tourists',\n",
       "   'description': 'Authorities recently closed the Chichen Itza Maya ruin site in Mexico after police complained of tourists without masks, while police in Puerto Rico have handed out a number of fines for non-compliance. So why are so many tourists seemingly ignoring the rules around mask wearing?',\n",
       "   'url': 'http://rss.cnn.com/~r/rss/cnn_latest/~3/RR5aRoYSQMQ/index.html',\n",
       "   'source': 'CNN',\n",
       "   'image': 'https://cdn.cnn.com/cnnnext/dam/assets/210420121923-puerto-rico-face-mask-sign2-super-169.jpg',\n",
       "   'category': 'general',\n",
       "   'language': 'en',\n",
       "   'country': 'us',\n",
       "   'published_at': '2021-04-20T11:33:35+00:00'},\n",
       "  {'author': None,\n",
       "   'title': 'Man riding stolen motorcycle taken into custody',\n",
       "   'description': '',\n",
       "   'url': 'http://rss.cnn.com/~r/rss/edition_us/~3/n4DKtZk8Afg/article_998cb6bc-9d6d-11eb-92cd-eb27749637e6.html',\n",
       "   'source': 'CNN US',\n",
       "   'image': None,\n",
       "   'category': 'general',\n",
       "   'language': 'en',\n",
       "   'country': 'us',\n",
       "   'published_at': '2021-04-15T22:50:04+00:00'},\n",
       "  {'author': None,\n",
       "   'title': 'Legislators: Add four justices to the Supreme Court',\n",
       "   'description': \"Sen. Edward J. Markey and Rep. Mondaire Jones write that adding four seats to the Supreme Court would help to stop Republicans' reliance on the highest court to govern and, consequently, help strengthen the country's democracy.\",\n",
       "   'url': 'http://rss.cnn.com/~r/rss/cnn_latest/~3/536p0kmKUCU/index.html',\n",
       "   'source': 'CNN',\n",
       "   'image': 'https://cdn.cnn.com/cnnnext/dam/assets/210129144107-05-scotus-exterior-file-super-169.jpg',\n",
       "   'category': 'general',\n",
       "   'language': 'en',\n",
       "   'country': 'us',\n",
       "   'published_at': '2021-04-15T22:56:35+00:00'},\n",
       "  {'author': None,\n",
       "   'title': 'Multiple people with gunshot wounds after shooting at FedEx facility',\n",
       "   'description': 'Multiple people with gunshot wounds have been brought to local hospitals after a shooting at a FedEx faciity in Indianapolis, according to Officer Genae Cook, a spokesperson for the Indianapolis Metropolitan Police Department.',\n",
       "   'url': 'http://rss.cnn.com/~r/rss/edition_americas/~3/H7rmQ-lcv_E/index.html',\n",
       "   'source': 'CNN Americas',\n",
       "   'image': 'https://cdn.cnn.com/cnnnext/dam/assets/210416010327-01-indianapolis-fedex-shooting-0416-restricted-super-169.jpg',\n",
       "   'category': 'general',\n",
       "   'language': 'en',\n",
       "   'country': 'us',\n",
       "   'published_at': '2021-04-16T09:40:15+00:00'},\n",
       "  {'author': None,\n",
       "   'title': 'Travel to Japan during Covid-19: What you need to know before you go',\n",
       "   'description': \"If you're planning a trip to Japan, here's what you'll need to know and expect if you want to visit during the global coronavirus pandemic.\",\n",
       "   'url': 'http://rss.cnn.com/~r/rss/cnn_latest/~3/n-qoX-M3qAw/index.html',\n",
       "   'source': 'CNN',\n",
       "   'image': 'https://cdn.cnn.com/cnnnext/dam/assets/201230105736-japan-torii-gates-super-169.jpg',\n",
       "   'category': 'general',\n",
       "   'language': 'en',\n",
       "   'country': 'us',\n",
       "   'published_at': '2021-04-16T10:50:26+00:00'},\n",
       "  {'author': None,\n",
       "   'title': \"Shooting 'probably only lasted one to two minutes,' investigator says\",\n",
       "   'description': '',\n",
       "   'url': 'http://rss.cnn.com/~r/rss/cnn_topstories/~3/VGAeHlJwhRo/h_8af18d6b92d4d3ed14c68620a98c0a15',\n",
       "   'source': 'CNN',\n",
       "   'image': 'https://cdn.cnn.com/cnnnext/dam/assets/150325082152-social-gfx-cnn-logo-super-169.jpg',\n",
       "   'category': 'general',\n",
       "   'language': 'en',\n",
       "   'country': 'us',\n",
       "   'published_at': '2021-04-16T10:45:02+00:00'},\n",
       "  {'author': None,\n",
       "   'title': 'Authorities identify Indianapolis shooter',\n",
       "   'description': '',\n",
       "   'url': 'http://rss.cnn.com/~r/rss/cnn_topstories/~3/_nI3_CQmGV8/h_f8e56156ad2e8ef54ca345d7b5f53eb2',\n",
       "   'source': 'CNN',\n",
       "   'image': 'https://cdn.cnn.com/cnnnext/dam/assets/150325082152-social-gfx-cnn-logo-super-169.jpg',\n",
       "   'category': 'general',\n",
       "   'language': 'en',\n",
       "   'country': 'us',\n",
       "   'published_at': '2021-04-16T20:20:03+00:00'},\n",
       "  {'author': None,\n",
       "   'title': 'Portland police disperse crowd with pepper spray following fatal officer-involved shooting',\n",
       "   'description': 'Police in Portland, Oregon, say they used pepper spray and smoke canisters to break up a crowd that gathered on Friday as they investigated the fatal shooting of a suspect by police in Lents Park.',\n",
       "   'url': 'http://rss.cnn.com/~r/rss/cnn_topstories/~3/0ZoSDXMuocQ/index.html',\n",
       "   'source': 'CNN',\n",
       "   'image': 'https://cdn.cnn.com/cnnnext/dam/assets/210416140135-01-portland-lent-park-incident-0416-super-169.jpg',\n",
       "   'category': 'general',\n",
       "   'language': 'en',\n",
       "   'country': 'us',\n",
       "   'published_at': '2021-04-17T08:21:07+00:00'},\n",
       "  {'author': None,\n",
       "   'title': \"Minnesota protests continue for a sixth night as Daunte Wright's loved ones mourn for his son\",\n",
       "   'description': \"As Daunte Wright's loved ones reflect on his son who will grow up without a father, police and protesters calling for justice in his death engaged in a standoff for the sixth night in a row.\",\n",
       "   'url': 'http://rss.cnn.com/~r/rss/cnn_latest/~3/gwTD8SO5nOg/index.html',\n",
       "   'source': 'CNN',\n",
       "   'image': 'https://cdn.cnn.com/cnnnext/dam/assets/210417032403-daunte-wright-minnesota-0416-super-169.jpg',\n",
       "   'category': 'general',\n",
       "   'language': 'en',\n",
       "   'country': 'us',\n",
       "   'published_at': '2021-04-17T10:08:16+00:00'},\n",
       "  {'author': None,\n",
       "   'title': 'Phoenix nonprofit plans to vaccinate 500 homeless people in 5 days',\n",
       "   'description': 'More than four months after the first coronavirus vaccine hit American arms, a week-long drive to vaccinate the homeless against Covid-19 is underway in Phoenix.',\n",
       "   'url': 'http://rss.cnn.com/~r/rss/cnn_latest/~3/vXWkpH8-DuM/index.html',\n",
       "   'source': 'CNN',\n",
       "   'image': 'https://cdn.cnn.com/cnnnext/dam/assets/210415133019-01-phoenix-homeless-vaccine-drive-restricted-super-169.jpg',\n",
       "   'category': 'general',\n",
       "   'language': 'en',\n",
       "   'country': 'us',\n",
       "   'published_at': '2021-04-17T10:06:28+00:00'},\n",
       "  {'author': None,\n",
       "   'title': 'The Sikh community is in mourning as 4 members were among the victims of the Indianapolis shooting',\n",
       "   'description': \"This week's deadly mass shooting at a FedEx Ground facility in Indianapolis struck deeply into the area's Sikh community after it suffered the loss of four members in the bloody onslaught.\",\n",
       "   'url': 'http://rss.cnn.com/~r/rss/cnn_topstories/~3/MgpACoUPx3I/index.html',\n",
       "   'source': 'CNN',\n",
       "   'image': 'https://cdn.cnn.com/cnnnext/dam/assets/210417022147-leaders-of-the-sikh-satsang-of-indianapolis-super-169.jpg',\n",
       "   'category': 'general',\n",
       "   'language': 'en',\n",
       "   'country': 'us',\n",
       "   'published_at': '2021-04-17T21:26:45+00:00'},\n",
       "  {'author': None,\n",
       "   'title': \"ACM Awards 2021: See who's nominated at Sunday's show\",\n",
       "   'description': 'The Academy of Country Music Awards, which celebrate some of the best songs and performances in country music of the year, will be presented Sunday.',\n",
       "   'url': 'http://rss.cnn.com/~r/rss/cnn_latest/~3/O9LJZ2FWybU/index.html',\n",
       "   'source': 'CNN',\n",
       "   'image': 'https://cdn.cnn.com/cnnnext/dam/assets/190828111808-maren-morris-file-super-169.jpg',\n",
       "   'category': 'general',\n",
       "   'language': 'en',\n",
       "   'country': 'us',\n",
       "   'published_at': '2021-04-18T06:01:08+00:00'},\n",
       "  {'author': None,\n",
       "   'title': \"Joe Biden's audacious gambles\",\n",
       "   'description': \"The President set a pattern of making big bets in January, days before he took office, by outlining a huge Covid relief package amounting to $1.9 trillion and then topped it last month with a proposal for a $2 trillion infrastructure bill. On Wednesday he made another one by announcing he would pull all US troops out of Afghanistan, a decision his predecessors were tempted to make, but didn't.\",\n",
       "   'url': 'http://rss.cnn.com/~r/rss/cnn_latest/~3/R9loDSy_G-g/index.html',\n",
       "   'source': 'CNN',\n",
       "   'image': 'https://cdn.cnn.com/cnnnext/dam/assets/210414144244-05-biden-afghanistan-remarks-0414-super-169.jpg',\n",
       "   'category': 'general',\n",
       "   'language': 'en',\n",
       "   'country': 'us',\n",
       "   'published_at': '2021-04-18T12:05:48+00:00'},\n",
       "  {'author': None,\n",
       "   'title': 'Afghanistan withdrawal will likely dismantle a CIA intelligence network built up over 20 years',\n",
       "   'description': \"President Joe Biden's planned withdrawal from Afghanistan includes an intense unraveling of the extensive intelligence and covert action network that the US has built there over the two decades since 9/11 as part of the global war on terror.\",\n",
       "   'url': 'http://rss.cnn.com/~r/rss/edition_world/~3/dgrUu3sjVpw/index.html',\n",
       "   'source': 'CNN World',\n",
       "   'image': 'https://cdn.cnn.com/cnnnext/dam/assets/210417181953-01-afghanistan-special-forces-us-intelligence-withdrawal-super-169.jpg',\n",
       "   'category': 'general',\n",
       "   'language': 'en',\n",
       "   'country': 'us',\n",
       "   'published_at': '2021-04-18T16:56:09+00:00'},\n",
       "  {'author': None,\n",
       "   'title': 'Man with semi-automatic rifle stopped in subway',\n",
       "   'description': '',\n",
       "   'url': 'http://rss.cnn.com/~r/rss/edition_us/~3/ctHDTSZzgRU/',\n",
       "   'source': 'CNN US',\n",
       "   'image': None,\n",
       "   'category': 'general',\n",
       "   'language': 'en',\n",
       "   'country': 'us',\n",
       "   'published_at': '2021-04-18T18:40:04+00:00'},\n",
       "  {'author': None,\n",
       "   'title': \"Did China's former Premier just subtly criticize President Xi Jinping?\",\n",
       "   'description': \"Under President Xi Jinping, China's former leaders have grown accustomed to keeping their heads down.\",\n",
       "   'url': 'http://rss.cnn.com/~r/rss/cnn_latest/~3/km-m6xL1MXc/index.html',\n",
       "   'source': 'CNN',\n",
       "   'image': 'https://cdn.cnn.com/cnnnext/dam/assets/210419141051-wen-jiabao-xi-jinping-2013-super-169.jpg',\n",
       "   'category': 'general',\n",
       "   'language': 'en',\n",
       "   'country': 'us',\n",
       "   'published_at': '2021-04-19T08:00:10+00:00'},\n",
       "  {'author': None,\n",
       "   'title': \"China's digital yuan could be used by athletes and visitors at the Beijing Olympics\",\n",
       "   'description': 'China is pushing forward with its experiment in creating a digital version of the yuan and may give foreign athletes and visitors a chance to use it at the 2022 Beijing Winter Olympics.',\n",
       "   'url': 'http://rss.cnn.com/~r/rss/cnn_latest/~3/5YdnRJSArXU/index.html',\n",
       "   'source': 'CNN',\n",
       "   'image': 'https://cdn.cnn.com/cnnnext/dam/assets/210419021109-china-digital-yuan-0308-super-169.jpg',\n",
       "   'category': 'general',\n",
       "   'language': 'en',\n",
       "   'country': 'us',\n",
       "   'published_at': '2021-04-19T09:32:00+00:00'},\n",
       "  {'author': None,\n",
       "   'title': \"Marion Cotillard and Adam Driver to open Cannes Film Festival in 'Annette'\",\n",
       "   'description': '\"Annette,\" a musical starring Marion Cotillard and Adam Driver will open the 2021 Cannes Film Festival on July 6.',\n",
       "   'url': 'http://rss.cnn.com/~r/rss/cnn_latest/~3/jvM1qU7gUH4/index.html',\n",
       "   'source': 'CNN',\n",
       "   'image': 'https://cdn.cnn.com/cnnnext/dam/assets/210419085926-annette-trailer-restricted-super-169.jpg',\n",
       "   'category': 'general',\n",
       "   'language': 'en',\n",
       "   'country': 'us',\n",
       "   'published_at': '2021-04-19T13:30:20+00:00'},\n",
       "  {'author': None,\n",
       "   'title': 'Keep track of your fitness goals with a discounted Fitbit Inspire 2',\n",
       "   'description': 'The Fitbit Inspire 2 — our pick for best fitness tracker — monitors your heart rate and tracks your activity and sleep, and right now the device is on sale at Amazon for just $68.95.',\n",
       "   'url': 'http://rss.cnn.com/~r/rss/cnn_latest/~3/2FtHvK34CRE/index.html',\n",
       "   'source': 'CNN',\n",
       "   'image': 'https://cdn.cnn.com/cnnnext/dam/assets/210419122404-fitbit-inspire-2-super-169.jpg',\n",
       "   'category': 'general',\n",
       "   'language': 'en',\n",
       "   'country': 'us',\n",
       "   'published_at': '2021-04-19T17:15:24+00:00'},\n",
       "  {'author': None,\n",
       "   'title': \"Outcry and condemnation: world reacts to 'very damaging' European Super League\",\n",
       "   'description': \"The news of plans for 12 of Europe's top football teams to break away and form a European Super League has shocked and outraged the footballing and wider world.\",\n",
       "   'url': 'http://rss.cnn.com/~r/rss/edition_sport/~3/3anL6Ov6Mx8/index.html',\n",
       "   'source': 'CNN Sport',\n",
       "   'image': 'https://cdn.cnn.com/cnnnext/dam/assets/210419113241-01-esl-teams-0411-tottenham-manchester-united-super-169.jpg',\n",
       "   'category': 'sports',\n",
       "   'language': 'en',\n",
       "   'country': 'us',\n",
       "   'published_at': '2021-04-19T17:18:21+00:00'},\n",
       "  {'author': None,\n",
       "   'title': 'India will offer Covid-19 vaccines to everyone 18+ in May',\n",
       "   'description': \"Indian citizens who are 18 years or older will be eligible for the Covid-19 vaccines starting May 1. Here's how it will work.\",\n",
       "   'url': 'http://rss.cnn.com/~r/rss/edition_asia/~3/8CAlte4gFDg/index.html',\n",
       "   'source': 'CNN Asia',\n",
       "   'image': 'https://cdn.cnn.com/cnnnext/dam/assets/210419141517-01-vaccine-line-india-0412-super-169.jpg',\n",
       "   'category': 'general',\n",
       "   'language': 'en',\n",
       "   'country': 'us',\n",
       "   'published_at': '2021-04-19T18:35:29+00:00'},\n",
       "  {'author': None,\n",
       "   'title': 'Maxine Waters just made a volatile situation much, much worse',\n",
       "   'description': \"Minnesota -- and the rest of the country -- is on a knife's edge waiting for a verdict in the murder trial of Derek Chauvin, the police officer charged in the death of George Floyd.\",\n",
       "   'url': 'http://rss.cnn.com/~r/rss/cnn_latest/~3/rc7EabY2KxE/index.html',\n",
       "   'source': 'CNN',\n",
       "   'image': 'https://cdn.cnn.com/cnnnext/dam/assets/210419102705-01-maxine-waters-protest-0417-super-169.jpg',\n",
       "   'category': 'general',\n",
       "   'language': 'en',\n",
       "   'country': 'us',\n",
       "   'published_at': '2021-04-19T18:50:54+00:00'},\n",
       "  {'author': None,\n",
       "   'title': 'Retired cop with multiple sclerosis lives his dream by skydiving',\n",
       "   'description': '',\n",
       "   'url': 'http://rss.cnn.com/~r/rss/edition_us/~3/rggYRme-Lus/',\n",
       "   'source': 'CNN US',\n",
       "   'image': 'https://cdn.cnn.com/cnnnext/dam/assets/210419194637-wtvd-skydive-super-169.jpg',\n",
       "   'category': 'general',\n",
       "   'language': 'en',\n",
       "   'country': 'us',\n",
       "   'published_at': '2021-04-20T00:00:04+00:00'},\n",
       "  {'author': None,\n",
       "   'title': 'Church formed by slaves marks 150 yrs in service',\n",
       "   'description': '',\n",
       "   'url': 'http://rss.cnn.com/~r/rss/edition_us/~3/5VpXZ9IMIsI/article_e6304a20-06ee-5d56-97ce-cf71a7897341.html',\n",
       "   'source': 'CNN US',\n",
       "   'image': None,\n",
       "   'category': 'general',\n",
       "   'language': 'en',\n",
       "   'country': 'us',\n",
       "   'published_at': '2021-04-20T00:00:04+00:00'},\n",
       "  {'author': None,\n",
       "   'title': 'Preschool owners battle city over eminent domain',\n",
       "   'description': '',\n",
       "   'url': 'http://rss.cnn.com/~r/rss/edition_us/~3/qfVDhsm_Mfs/',\n",
       "   'source': 'CNN US',\n",
       "   'image': None,\n",
       "   'category': 'general',\n",
       "   'language': 'en',\n",
       "   'country': 'us',\n",
       "   'published_at': '2021-04-20T00:00:04+00:00'},\n",
       "  {'author': None,\n",
       "   'title': 'Man accused in deadly shooting held on $4M bond',\n",
       "   'description': '',\n",
       "   'url': 'http://rss.cnn.com/~r/rss/edition_us/~3/JDNh261NILw/suspect-identified-in-deadly-shooting-at-somers-house-tavern-in-kenosha-county',\n",
       "   'source': 'CNN US',\n",
       "   'image': None,\n",
       "   'category': 'general',\n",
       "   'language': 'en',\n",
       "   'country': 'us',\n",
       "   'published_at': '2021-04-20T00:00:04+00:00'},\n",
       "  {'author': None,\n",
       "   'title': 'Huggies, Kleenex maker bring high-paying jobs',\n",
       "   'description': '',\n",
       "   'url': 'http://rss.cnn.com/~r/rss/edition_us/~3/9jMgTkYw_jA/',\n",
       "   'source': 'CNN US',\n",
       "   'image': None,\n",
       "   'category': 'general',\n",
       "   'language': 'en',\n",
       "   'country': 'us',\n",
       "   'published_at': '2021-04-20T00:00:04+00:00'},\n",
       "  {'author': None,\n",
       "   'title': \"What civilians in Afghanistan say about America's withdrawal\",\n",
       "   'description': 'America plans to \"close the book\" on its 20-year war in Afghanistan -- but the departure of US troops will usher in an uncertain chapter for Afghan civilians.',\n",
       "   'url': 'http://rss.cnn.com/~r/rss/edition_meast/~3/yo_mgeYew4Y/index.html',\n",
       "   'source': 'CNN Middle East',\n",
       "   'image': 'https://cdn.cnn.com/cnnnext/dam/assets/210415125230-01-kabul-afghanistan-street-scenes-0415-super-169.jpg',\n",
       "   'category': 'general',\n",
       "   'language': 'en',\n",
       "   'country': 'us',\n",
       "   'published_at': '2021-04-15T20:40:10+00:00'},\n",
       "  {'author': None,\n",
       "   'title': 'Hong Kong marks National Security Education Day with goose-stepping police and riot cop souvenirs',\n",
       "   'description': 'Riot police, heavily armored, their faces concealed behind masks, holding signs reading \"Disperse or We Fire\" and \"Warning, Tear Smoke.\"',\n",
       "   'url': 'http://rss.cnn.com/~r/rss/cnn_latest/~3/U4FqtYHhT4Y/index.html',\n",
       "   'source': 'CNN',\n",
       "   'image': 'https://cdn.cnn.com/cnnnext/dam/assets/210416090618-hong-kong-national-security-day-0415-03-super-169.jpg',\n",
       "   'category': 'general',\n",
       "   'language': 'en',\n",
       "   'country': 'us',\n",
       "   'published_at': '2021-04-16T02:32:25+00:00'},\n",
       "  {'author': None,\n",
       "   'title': 'Check your fit on that double mask if you want it to work against Covid, study says',\n",
       "   'description': \"Double-masking has become a way to add extra protection against the novel coronavirus. But a new study says that it only works if both masks fit properly. Here's how to check.\",\n",
       "   'url': 'http://rss.cnn.com/~r/rss/cnn_latest/~3/mv2Qu9mPCzA/index.html',\n",
       "   'source': 'CNN',\n",
       "   'image': 'https://cdn.cnn.com/cnnnext/dam/assets/210211101348-file-double-mask-new-york-2020-super-169.jpg',\n",
       "   'category': 'general',\n",
       "   'language': 'en',\n",
       "   'country': 'us',\n",
       "   'published_at': '2021-04-16T18:50:23+00:00'},\n",
       "  {'author': None,\n",
       "   'title': 'San Antonio police officer wounded and two people dead after shooting during traffic stop, police say',\n",
       "   'description': 'Two people are dead and police officer was wounded after a traffic stop Friday ended in gunfire, according to the San Antonio police chief.',\n",
       "   'url': 'http://rss.cnn.com/~r/rss/cnn_latest/~3/6ucy2uImw4w/index.html',\n",
       "   'source': 'CNN',\n",
       "   'image': 'https://cdn.cnn.com/cnnnext/dam/assets/210416131636-01-san-antionio-shooting-0416-super-169.jpg',\n",
       "   'category': 'general',\n",
       "   'language': 'en',\n",
       "   'country': 'us',\n",
       "   'published_at': '2021-04-16T19:26:49+00:00'},\n",
       "  {'author': None,\n",
       "   'title': 'Plane goes down in ocean during air show',\n",
       "   'description': '',\n",
       "   'url': 'http://rss.cnn.com/~r/rss/edition_us/~3/WLjdiuETB_I/36153004',\n",
       "   'source': 'CNN US',\n",
       "   'image': None,\n",
       "   'category': 'general',\n",
       "   'language': 'en',\n",
       "   'country': 'us',\n",
       "   'published_at': '2021-04-17T21:05:03+00:00'},\n",
       "  {'author': None,\n",
       "   'title': 'Local artists celebrate springtime with craft show',\n",
       "   'description': '',\n",
       "   'url': 'http://rss.cnn.com/~r/rss/edition_us/~3/FcksnNuPs8A/local-artists-celebrate-springtime-with-cabin-fever-craft-show',\n",
       "   'source': 'CNN US',\n",
       "   'image': None,\n",
       "   'category': 'general',\n",
       "   'language': 'en',\n",
       "   'country': 'us',\n",
       "   'published_at': '2021-04-17T21:05:04+00:00'},\n",
       "  {'author': None,\n",
       "   'title': 'Woman killed by boyfriend in shooting at hotel',\n",
       "   'description': '',\n",
       "   'url': 'http://rss.cnn.com/~r/rss/edition_us/~3/gcZ5RZs65g0/',\n",
       "   'source': 'CNN US',\n",
       "   'image': None,\n",
       "   'category': 'general',\n",
       "   'language': 'en',\n",
       "   'country': 'us',\n",
       "   'published_at': '2021-04-17T21:05:04+00:00'},\n",
       "  {'author': None,\n",
       "   'title': \"'The People v. the Klan'\",\n",
       "   'description': '',\n",
       "   'url': 'http://rss.cnn.com/~r/rss/cnn_topstories/~3/3Lcbpb2-6b8/',\n",
       "   'source': 'CNN',\n",
       "   'image': 'https://cdn.cnn.com/cnnnext/dam/assets/150325082152-social-gfx-cnn-logo-super-169.jpg',\n",
       "   'category': 'general',\n",
       "   'language': 'en',\n",
       "   'country': 'us',\n",
       "   'published_at': '2021-04-19T01:15:03+00:00'},\n",
       "  {'author': None,\n",
       "   'title': \"J&J said blood clots have been reported with all Covid-19 vaccines. Author of the study they cited says they're wrong\",\n",
       "   'description': \"When news broke that Johnson & Johnson's Covid-19 vaccine might be linked to blood clots, the company responded by pointing a finger at Pfizer and Moderna's vaccines, issuing a media statement that said a study showed there were reports of blood clots with their vaccines as well.\",\n",
       "   'url': 'http://rss.cnn.com/~r/rss/cnn_topstories/~3/XuFPH_TId0s/index.html',\n",
       "   'source': 'CNN',\n",
       "   'image': 'https://cdn.cnn.com/cnnnext/dam/assets/210416133910-johnson-and-jonson-vaccine-march-03-super-169.jpg',\n",
       "   'category': 'general',\n",
       "   'language': 'en',\n",
       "   'country': 'us',\n",
       "   'published_at': '2021-04-19T13:15:42+00:00'},\n",
       "  {'author': None,\n",
       "   'title': 'The iPad Air is light in build and heavy with features',\n",
       "   'description': '',\n",
       "   'url': 'http://rss.cnn.com/~r/rss/cnn_topstories/~3/JMO4_hNvQAE/ipad-air-fourth-generation-review',\n",
       "   'source': 'CNN',\n",
       "   'image': 'https://cdn.cnn.com/cnnnext/dam/assets/210121145559-nordstromfluffyeah-super-169.jpg',\n",
       "   'category': 'general',\n",
       "   'language': 'en',\n",
       "   'country': 'us',\n",
       "   'published_at': '2021-04-19T13:20:03+00:00'},\n",
       "  {'author': None,\n",
       "   'title': \"Lleyton Hewitt's son, Cruz, wins Australian junior tennis title\",\n",
       "   'description': \"Cruz Hewitt, son of former tennis world No. 1 Lleyton, is proving he's a chip off the old block after winning an Australian Under-12s clay court tournament.\",\n",
       "   'url': 'http://rss.cnn.com/~r/rss/edition_tennis/~3/nOkND79_Jrc/index.html',\n",
       "   'source': 'CNN Tennis',\n",
       "   'image': 'https://cdn.cnn.com/cnnnext/dam/assets/210412134520-cruz-hewitt-super-169.jpg',\n",
       "   'category': 'sports',\n",
       "   'language': 'en',\n",
       "   'country': 'us',\n",
       "   'published_at': '2021-04-19T13:15:28+00:00'},\n",
       "  {'author': None,\n",
       "   'title': 'Biden administration to provide $150 million to boost Covid response in underserved areas',\n",
       "   'description': 'The Biden administration on Monday will allocate $150 million from the American Rescue Plan to community-based health care providers across the nation to help boost their coronavirus response for \"underserved communities and vulnerable populations,\" an administration official told CNN.',\n",
       "   'url': 'http://rss.cnn.com/~r/rss/cnn_topstories/~3/dumFbX0rFYs/index.html',\n",
       "   'source': 'CNN',\n",
       "   'image': 'https://cdn.cnn.com/cnnnext/dam/assets/210419104614-vaccination-april-10-super-169.jpg',\n",
       "   'category': 'general',\n",
       "   'language': 'en',\n",
       "   'country': 'us',\n",
       "   'published_at': '2021-04-19T15:11:59+00:00'},\n",
       "  {'author': None,\n",
       "   'title': 'Mysterious blackout in Iran threatens to undermine nuclear talks',\n",
       "   'description': \"Iran's Foreign Minister Javad Zarif has vowed revenge against Israel after an apparent attack on an Iranian nuclear site caused a blackout at the facility over the weekend.\",\n",
       "   'url': 'http://rss.cnn.com/~r/rss/edition_meast/~3/rqZyTo1IR4U/index.html',\n",
       "   'source': 'CNN Middle East',\n",
       "   'image': 'https://cdn.cnn.com/cnnnext/dam/assets/210411114711-file-01-iran-natanz-nuclear-facility-2019-super-169.jpg',\n",
       "   'category': 'general',\n",
       "   'language': 'en',\n",
       "   'country': 'us',\n",
       "   'published_at': '2021-04-19T16:00:10+00:00'},\n",
       "  {'author': None,\n",
       "   'title': \"White House backtracks after Biden calls border situation a 'crisis'\",\n",
       "   'description': 'The White House on Monday backtracked after President Joe Biden over the weekend described the influx of migrant children on the country\\'s southern border as a \"crisis,\" in what appeared to be a notable shift in language.',\n",
       "   'url': 'http://rss.cnn.com/~r/rss/cnn_topstories/~3/jhyreVGvmk0/index.html',\n",
       "   'source': 'CNN',\n",
       "   'image': 'https://cdn.cnn.com/cnnnext/dam/assets/210418073547-01-joe-biden-0417-super-169.jpg',\n",
       "   'category': 'general',\n",
       "   'language': 'en',\n",
       "   'country': 'us',\n",
       "   'published_at': '2021-04-19T16:57:32+00:00'},\n",
       "  {'author': None,\n",
       "   'title': 'The life and times of Tiger Woods',\n",
       "   'description': '',\n",
       "   'url': 'http://rss.cnn.com/~r/rss/edition_golf/~3/Ay6AV6a9vLA/',\n",
       "   'source': 'CNN Golf',\n",
       "   'image': 'https://cdn.cnn.com/cnnnext/dam/assets/210223201657-01-tiger-woods-super-169.jpg',\n",
       "   'category': 'sports',\n",
       "   'language': 'en',\n",
       "   'country': 'us',\n",
       "   'published_at': '2021-04-19T17:15:20+00:00'},\n",
       "  {'author': None,\n",
       "   'title': 'Covid-19 is out of control in Brazil. So why are some officials easing restrictive measures?',\n",
       "   'description': 'Last week, Brazil saw its deadliest day since the start of the pandemic, with 4,195 people killed in just 24 hours. The state of Sao Paulo and the city of Rio de Janeiro rank among the worst in the country for Covid-19 deaths. Yet both plan to ease movement restrictions starting on Monday.',\n",
       "   'url': 'http://rss.cnn.com/~r/rss/edition_americas/~3/zKpoGHwMDIs/index.html',\n",
       "   'source': 'CNN Americas',\n",
       "   'image': 'https://cdn.cnn.com/cnnnext/dam/assets/210408171405-18-week-in-photos-0408-super-169.jpg',\n",
       "   'category': 'general',\n",
       "   'language': 'en',\n",
       "   'country': 'us',\n",
       "   'published_at': '2021-04-19T18:30:04+00:00'},\n",
       "  {'author': None,\n",
       "   'title': 'Video captures Border Patrol rescue of two migrant children in Rio Grande',\n",
       "   'description': \"Two Honduran children found clinging to an island surrounded by a powerful current in the Rio Grande were rescued by Border Patrol agents last week and taken into custody, the region's top border official said, the latest example of the dangers migrants face as a growing number desperately attempt to reach the US.\",\n",
       "   'url': 'http://rss.cnn.com/~r/rss/cnn_latest/~3/S8VXMn49ZC4/index.html',\n",
       "   'source': 'CNN',\n",
       "   'image': 'https://cdn.cnn.com/cnnnext/dam/assets/210419182140-border-patrol-rescue-children-super-169.jpg',\n",
       "   'category': 'general',\n",
       "   'language': 'en',\n",
       "   'country': 'us',\n",
       "   'published_at': '2021-04-20T13:39:03+00:00'},\n",
       "  {'author': None,\n",
       "   'title': \"Police responding to a 'mass casualty situation' at FedEx facility in Indianapolis\",\n",
       "   'description': 'Law enforcement officials in Indianapolis are working a \"mass casualty situation,\" according to Indianapolis Metropolitan Police Department Spokesperson Officer Genae Cook.',\n",
       "   'url': 'http://rss.cnn.com/~r/rss/cnn_topstories/~3/H7rmQ-lcv_E/index.html',\n",
       "   'source': 'CNN',\n",
       "   'image': 'https://cdn.cnn.com/cnnnext/dam/assets/151001141820-cnn-breaking-news-graphic-super-169.jpg',\n",
       "   'category': 'general',\n",
       "   'language': 'en',\n",
       "   'country': 'us',\n",
       "   'published_at': '2021-04-16T04:48:12+00:00'},\n",
       "  {'author': None,\n",
       "   'title': 'Hong Kong court jails Jimmy Lai and other prominent activists for 8 to 18 months',\n",
       "   'description': \"A Hong Kong court has sentenced several of the city's leading pro-democracy campaigners to between 8 and 18 months in prison over their roles in unauthorized assemblies at the height of the 2019 protests.\",\n",
       "   'url': 'http://rss.cnn.com/~r/rss/cnn_topstories/~3/mHVQIlexbyw/index.html',\n",
       "   'source': 'CNN',\n",
       "   'image': 'https://cdn.cnn.com/cnnnext/dam/assets/201211201903-01-jimmy-lai-arrest-1212-super-169.jpg',\n",
       "   'category': 'general',\n",
       "   'language': 'en',\n",
       "   'country': 'us',\n",
       "   'published_at': '2021-04-16T09:55:10+00:00'},\n",
       "  {'author': None,\n",
       "   'title': \"Sedgwick: I'm not invited back to Tom Cruise's\",\n",
       "   'description': 'Kyra Sedgwick once had a nosy moment as a house guest.',\n",
       "   'url': 'http://rss.cnn.com/~r/rss/cnn_topstories/~3/ypFA8Onj36o/index.html',\n",
       "   'source': 'CNN',\n",
       "   'image': None,\n",
       "   'category': 'general',\n",
       "   'language': 'en',\n",
       "   'country': 'us',\n",
       "   'published_at': '2021-04-16T10:20:58+00:00'},\n",
       "  {'author': None,\n",
       "   'title': 'White House funnels $1.7 billion to help track and fight coronavirus variants',\n",
       "   'description': 'The White House on Friday announced plans to release $1.7 billion in funding to help the US Centers for Disease Control and Prevention and states more effectively track and combat coronavirus variants, some of which have proven to be more transmissible than the original strain.',\n",
       "   'url': 'http://rss.cnn.com/~r/rss/cnn_latest/~3/24XIW3HgNiQ/index.html',\n",
       "   'source': 'CNN',\n",
       "   'image': 'https://cdn.cnn.com/cnnnext/dam/assets/210415182640-pfizer-vaccine-florida-0415-super-169.jpg',\n",
       "   'category': 'general',\n",
       "   'language': 'en',\n",
       "   'country': 'us',\n",
       "   'published_at': '2021-04-16T14:30:31+00:00'},\n",
       "  {'author': None,\n",
       "   'title': 'Everything you need for an at-home karaoke night',\n",
       "   'description': '',\n",
       "   'url': 'http://rss.cnn.com/~r/rss/cnn_latest/~3/pno6KZjsLuc/index.html',\n",
       "   'source': 'CNN',\n",
       "   'image': 'https://cdn.cnn.com/cnnnext/dam/assets/210416125309-karaoke-backdrop-super-169.jpg',\n",
       "   'category': 'general',\n",
       "   'language': 'en',\n",
       "   'country': 'us',\n",
       "   'published_at': '2021-04-16T17:41:17+00:00'},\n",
       "  {'author': None,\n",
       "   'title': 'Andy Murray pulls out of Dubai Open after arrival of fourth child',\n",
       "   'description': \"Andy Murray has pulled out of next week's Dubai Duty Free Tennis Championships after the birth of his fourth child.\",\n",
       "   'url': 'http://rss.cnn.com/~r/rss/edition_tennis/~3/qAGP63SSyMI/index.html',\n",
       "   'source': 'CNN Tennis',\n",
       "   'image': 'https://cdn.cnn.com/cnnnext/dam/assets/210312101917-01-andy-murray-kim-sears-file-super-169.jpg',\n",
       "   'category': 'sports',\n",
       "   'language': 'en',\n",
       "   'country': 'us',\n",
       "   'published_at': '2021-04-16T18:25:31+00:00'},\n",
       "  {'author': None,\n",
       "   'title': 'Super Typhoon Surigae continues to strengthen and could move dangerously close to the Philippines',\n",
       "   'description': 'The first super typhoon of the season in the West Pacific is expected to come dangerously close to the Central Philippines this weekend.',\n",
       "   'url': 'http://rss.cnn.com/~r/rss/cnn_latest/~3/TbkNmzODbsw/index.html',\n",
       "   'source': 'CNN',\n",
       "   'image': 'https://cdn.cnn.com/cnnnext/dam/assets/210416195144-typhoon-surigae-winds-041621-super-169.jpg',\n",
       "   'category': 'general',\n",
       "   'language': 'en',\n",
       "   'country': 'us',\n",
       "   'published_at': '2021-04-17T15:43:30+00:00'},\n",
       "  {'author': None,\n",
       "   'title': 'Marjorie Taylor Greene and other Trump allies ride small-dollar wave during 1st quarter as political committee donations fall',\n",
       "   'description': \"A CNN review of newly filed campaign finance reports shows the share of donations from political committees fell between the fourth quarter of 2020 and the first quarter of this year for roughly 120 members of Congress who objected to certifying Trump's loss in January.\",\n",
       "   'url': 'http://rss.cnn.com/~r/rss/cnn_latest/~3/28_A0GR06nQ/index.html',\n",
       "   'source': 'CNN',\n",
       "   'image': 'https://cdn.cnn.com/cnnnext/dam/assets/210310143921-marjorie-taylor-greene-march-10-2021-01-super-169.jpg',\n",
       "   'category': 'general',\n",
       "   'language': 'en',\n",
       "   'country': 'us',\n",
       "   'published_at': '2021-04-17T19:40:35+00:00'}]}"
      ]
     },
     "execution_count": 10,
     "metadata": {},
     "output_type": "execute_result"
    }
   ],
   "source": [
    "jsonCNN"
   ]
  },
  {
   "cell_type": "code",
   "execution_count": 11,
   "id": "77611bd8",
   "metadata": {},
   "outputs": [
    {
     "data": {
      "text/plain": [
       "100"
      ]
     },
     "execution_count": 11,
     "metadata": {},
     "output_type": "execute_result"
    }
   ],
   "source": [
    "len(jsonCNN['data'])"
   ]
  },
  {
   "cell_type": "code",
   "execution_count": 12,
   "id": "179ea2f3",
   "metadata": {},
   "outputs": [
    {
     "data": {
      "text/plain": [
       "dict_keys(['author', 'title', 'description', 'url', 'source', 'image', 'category', 'language', 'country', 'published_at'])"
      ]
     },
     "execution_count": 12,
     "metadata": {},
     "output_type": "execute_result"
    }
   ],
   "source": [
    "jsonCNN['data'][1].keys()"
   ]
  },
  {
   "cell_type": "code",
   "execution_count": 13,
   "id": "26b855b7",
   "metadata": {},
   "outputs": [
    {
     "data": {
      "text/plain": [
       "'2021-04-17T19:40:35+00:00'"
      ]
     },
     "execution_count": 13,
     "metadata": {},
     "output_type": "execute_result"
    }
   ],
   "source": [
    "jsonCNN['data'][99]['published_at']"
   ]
  },
  {
   "cell_type": "code",
   "execution_count": 14,
   "id": "16c6cccb",
   "metadata": {},
   "outputs": [
    {
     "data": {
      "text/plain": [
       "'2021-04-03T10:50:00+00:00'"
      ]
     },
     "execution_count": 14,
     "metadata": {},
     "output_type": "execute_result"
    }
   ],
   "source": [
    "json['data'][10]['published_at']"
   ]
  },
  {
   "cell_type": "code",
   "execution_count": 15,
   "id": "8c05f6d2",
   "metadata": {},
   "outputs": [],
   "source": [
    "#todays news\n",
    "\n",
    "\n",
    "response_today_CNN = requests.get('http://api.mediastack.com/v1/news?access_key='+ key +'&sources=cnn,newyorktimes&limit=100&date=2021-07-26')\n"
   ]
  },
  {
   "cell_type": "code",
   "execution_count": 16,
   "id": "08f31fd2",
   "metadata": {},
   "outputs": [],
   "source": [
    "todays=response_today_CNN.json()"
   ]
  },
  {
   "cell_type": "code",
   "execution_count": 17,
   "id": "fbc51b54",
   "metadata": {},
   "outputs": [
    {
     "data": {
      "text/plain": [
       "100"
      ]
     },
     "execution_count": 17,
     "metadata": {},
     "output_type": "execute_result"
    }
   ],
   "source": [
    "len(todays['data'])"
   ]
  },
  {
   "cell_type": "code",
   "execution_count": 18,
   "id": "efb2104e",
   "metadata": {},
   "outputs": [
    {
     "data": {
      "text/plain": [
       "{'author': None,\n",
       " 'title': 'Tracking Covid-19 cases in the US',\n",
       " 'description': '',\n",
       " 'url': 'http://rss.cnn.com/~r/rss/edition_meast/~3/gNUv4cYMRio/',\n",
       " 'source': 'CNN Middle East',\n",
       " 'image': 'https://cdn.cnn.com/cnnnext/dam/assets/150325082152-social-gfx-cnn-logo-super-169.jpg',\n",
       " 'category': 'general',\n",
       " 'language': 'en',\n",
       " 'country': 'us',\n",
       " 'published_at': '2021-07-26T05:45:12+00:00'}"
      ]
     },
     "execution_count": 18,
     "metadata": {},
     "output_type": "execute_result"
    }
   ],
   "source": [
    "todays['data'][0]"
   ]
  },
  {
   "cell_type": "code",
   "execution_count": 19,
   "id": "507313f0",
   "metadata": {},
   "outputs": [
    {
     "data": {
      "text/plain": [
       "'2021-07-26T10:23:06+00:00'"
      ]
     },
     "execution_count": 19,
     "metadata": {},
     "output_type": "execute_result"
    }
   ],
   "source": [
    "todays['data'][9]['published_at']"
   ]
  },
  {
   "cell_type": "markdown",
   "id": "4bba54a2",
   "metadata": {},
   "source": [
    "## Function to get all descriptions"
   ]
  },
  {
   "cell_type": "code",
   "execution_count": 20,
   "id": "4cf9c228",
   "metadata": {},
   "outputs": [
    {
     "data": {
      "text/plain": [
       "{'author': None,\n",
       " 'title': 'Tunisian democracy in crisis after president ousts government',\n",
       " 'description': 'Tunisia faced its biggest crisis in a decade of democracy on Monday after President Kais Saied ousted the government and froze the activities of parliament, a move his foes labelled a coup that should be opposed on the street.',\n",
       " 'url': 'http://rss.cnn.com/~r/rss/cnn_latest/~3/_OzmMwLM9z4/index.html',\n",
       " 'source': 'CNN',\n",
       " 'image': 'https://cdn.cnn.com/cnnnext/dam/assets/210725190850-tunisia-kais-saied-meeting-0725-super-169.jpg',\n",
       " 'category': 'general',\n",
       " 'language': 'en',\n",
       " 'country': 'us',\n",
       " 'published_at': '2021-07-26T09:50:15+00:00'}"
      ]
     },
     "execution_count": 20,
     "metadata": {},
     "output_type": "execute_result"
    }
   ],
   "source": [
    "todays['data'][1]"
   ]
  },
  {
   "cell_type": "code",
   "execution_count": 21,
   "id": "5694734b",
   "metadata": {},
   "outputs": [
    {
     "ename": "NameError",
     "evalue": "name 'TextBlob' is not defined",
     "output_type": "error",
     "traceback": [
      "\u001b[0;31m---------------------------------------------------------------------------\u001b[0m",
      "\u001b[0;31mNameError\u001b[0m                                 Traceback (most recent call last)",
      "\u001b[0;32m<ipython-input-21-081de472ef4c>\u001b[0m in \u001b[0;36m<module>\u001b[0;34m\u001b[0m\n\u001b[1;32m      5\u001b[0m \u001b[0;34m\u001b[0m\u001b[0m\n\u001b[1;32m      6\u001b[0m     \u001b[0;31m#print(TextBlob(i['description']).sentiment.polarity)\u001b[0m\u001b[0;34m\u001b[0m\u001b[0;34m\u001b[0m\u001b[0;34m\u001b[0m\u001b[0m\n\u001b[0;32m----> 7\u001b[0;31m     \u001b[0mpolarity_list\u001b[0m\u001b[0;34m.\u001b[0m\u001b[0mappend\u001b[0m\u001b[0;34m(\u001b[0m\u001b[0mTextBlob\u001b[0m\u001b[0;34m(\u001b[0m\u001b[0mi\u001b[0m\u001b[0;34m[\u001b[0m\u001b[0;34m'description'\u001b[0m\u001b[0;34m]\u001b[0m\u001b[0;34m)\u001b[0m\u001b[0;34m.\u001b[0m\u001b[0msentiment\u001b[0m\u001b[0;34m.\u001b[0m\u001b[0mpolarity\u001b[0m\u001b[0;34m)\u001b[0m\u001b[0;34m\u001b[0m\u001b[0;34m\u001b[0m\u001b[0m\n\u001b[0m\u001b[1;32m      8\u001b[0m \u001b[0;34m\u001b[0m\u001b[0m\n\u001b[1;32m      9\u001b[0m \u001b[0mpolarity_list\u001b[0m\u001b[0;34m\u001b[0m\u001b[0;34m\u001b[0m\u001b[0m\n",
      "\u001b[0;31mNameError\u001b[0m: name 'TextBlob' is not defined"
     ]
    }
   ],
   "source": [
    "polarity_list=[]\n",
    "\n",
    "for i in todays['data']:\n",
    "    #print(TextBlob(i['description']))\n",
    "    \n",
    "    #print(TextBlob(i['description']).sentiment.polarity)\n",
    "    polarity_list.append(TextBlob(i['description']).sentiment.polarity)\n",
    "\n",
    "polarity_list"
   ]
  },
  {
   "cell_type": "code",
   "execution_count": null,
   "id": "41dc7f5d",
   "metadata": {},
   "outputs": [],
   "source": [
    "sorted(polarity_list, reverse=True)"
   ]
  },
  {
   "cell_type": "code",
   "execution_count": null,
   "id": "864af9c8",
   "metadata": {},
   "outputs": [],
   "source": [
    "polarity_list.index(0.5)"
   ]
  },
  {
   "cell_type": "code",
   "execution_count": null,
   "id": "403e5a8a",
   "metadata": {},
   "outputs": [],
   "source": [
    "polarity_list.index(0.3625)"
   ]
  },
  {
   "cell_type": "code",
   "execution_count": null,
   "id": "c217d550",
   "metadata": {},
   "outputs": [],
   "source": [
    "polarity_list.index(0.35)"
   ]
  },
  {
   "cell_type": "code",
   "execution_count": null,
   "id": "2a7869b8",
   "metadata": {},
   "outputs": [],
   "source": [
    "todays['data'][66]['url']"
   ]
  },
  {
   "cell_type": "code",
   "execution_count": null,
   "id": "513dbf33",
   "metadata": {},
   "outputs": [],
   "source": [
    "todays['data'][50]['description']"
   ]
  },
  {
   "cell_type": "code",
   "execution_count": null,
   "id": "17396c96",
   "metadata": {},
   "outputs": [],
   "source": [
    "sorted_polarity"
   ]
  },
  {
   "cell_type": "code",
   "execution_count": null,
   "id": "557791f6",
   "metadata": {},
   "outputs": [],
   "source": []
  },
  {
   "cell_type": "code",
   "execution_count": null,
   "id": "a8d1fa5a",
   "metadata": {},
   "outputs": [],
   "source": []
  },
  {
   "cell_type": "code",
   "execution_count": null,
   "id": "feadac38",
   "metadata": {},
   "outputs": [],
   "source": [
    "description = todays['data'][0]['description']"
   ]
  },
  {
   "cell_type": "code",
   "execution_count": null,
   "id": "572fd0ce",
   "metadata": {},
   "outputs": [],
   "source": [
    "description.split('who')"
   ]
  },
  {
   "cell_type": "code",
   "execution_count": null,
   "id": "ce348bff",
   "metadata": {},
   "outputs": [],
   "source": []
  },
  {
   "cell_type": "markdown",
   "id": "77538b63",
   "metadata": {},
   "source": [
    "## Sentiment analysis with TEXTBLOB"
   ]
  },
  {
   "cell_type": "code",
   "execution_count": null,
   "id": "3b2bc81d",
   "metadata": {},
   "outputs": [],
   "source": [
    "from textblob import TextBlob\n",
    "from nltk.text import Text"
   ]
  },
  {
   "cell_type": "code",
   "execution_count": null,
   "id": "de3c504f",
   "metadata": {},
   "outputs": [],
   "source": [
    "text = todays['data'][0]['description']"
   ]
  },
  {
   "cell_type": "code",
   "execution_count": null,
   "id": "7d235b6b",
   "metadata": {},
   "outputs": [],
   "source": [
    "text2 = 'How Crowded Are America’s National Parks? See for Yourself. Americans are flocking to national parks in record numbers, in many cases leading to long lines and overcrowded facilities. Here’s what four parks looked like over the holiday weekend'\n",
    "\n",
    "#'What to Do This Summer: Lower Manhattan. Three neighborhoods offer art, great food (and drinks), river breezes and lush green space — not to mention amazing views. And, for now, there’s still plenty of elbow room.'"
   ]
  },
  {
   "cell_type": "code",
   "execution_count": null,
   "id": "6e59f00a",
   "metadata": {},
   "outputs": [],
   "source": [
    "text"
   ]
  },
  {
   "cell_type": "code",
   "execution_count": null,
   "id": "7b6d2f69",
   "metadata": {},
   "outputs": [],
   "source": [
    "textb2 = TextBlob(text2)"
   ]
  },
  {
   "cell_type": "code",
   "execution_count": null,
   "id": "d563e941",
   "metadata": {},
   "outputs": [],
   "source": [
    "pol_sub = textb2.sentiment"
   ]
  },
  {
   "cell_type": "code",
   "execution_count": null,
   "id": "f9704496",
   "metadata": {},
   "outputs": [],
   "source": [
    "pol_sub.polarity"
   ]
  },
  {
   "cell_type": "markdown",
   "id": "efa2d3cb",
   "metadata": {},
   "source": [
    "### SENTIMENT ANALYSIS"
   ]
  },
  {
   "cell_type": "code",
   "execution_count": null,
   "id": "b5f9e1a3",
   "metadata": {},
   "outputs": [],
   "source": []
  },
  {
   "cell_type": "code",
   "execution_count": null,
   "id": "027a4c9b",
   "metadata": {},
   "outputs": [],
   "source": [
    "nltk.download('sentiwordnet')"
   ]
  },
  {
   "cell_type": "code",
   "execution_count": null,
   "id": "be31ff7f",
   "metadata": {},
   "outputs": [],
   "source": [
    "import docx2txt\n",
    "import pandas as pd\n",
    "import numpy as np\n",
    "\n",
    "import nltk\n",
    "\n",
    "from nltk.tokenize import word_tokenize \n",
    "from nltk.corpus import stopwords \n",
    "from nltk.stem import WordNetLemmatizer\n",
    "from nltk.corpus import sentiwordnet as swn\n",
    "from nltk.corpus import wordnet as wn\n",
    "\n",
    "#import re\n",
    "#import spacy\n",
    "\n",
    "#from IPython.display import clear_output\n",
    "#import plotly.express as px\n",
    "#import seaborn as sns\n",
    "#import matplotlib.pyplot as plt\n",
    "#from wordcloud import WordCloud\n",
    "#import plotly\n"
   ]
  },
  {
   "cell_type": "code",
   "execution_count": null,
   "id": "2433ac05",
   "metadata": {},
   "outputs": [],
   "source": [
    "POS_tag_list = nltk.pos_tag(word_tokenize('Two police officers and bystanders saved an 8-month-old baby '))"
   ]
  },
  {
   "cell_type": "code",
   "execution_count": null,
   "id": "476e8ee0",
   "metadata": {},
   "outputs": [],
   "source": [
    "POS_tag_list"
   ]
  },
  {
   "cell_type": "markdown",
   "id": "85ea5f71",
   "metadata": {},
   "source": [
    "#### Token-Tag senti function: 2 lists"
   ]
  },
  {
   "cell_type": "code",
   "execution_count": null,
   "id": "a3ad6550",
   "metadata": {},
   "outputs": [],
   "source": [
    "def token_tag_s(POS_tag_list):\n",
    "    \n",
    "    tokens = []\n",
    "    tags = []\n",
    "    \n",
    "    for i in POS_tag_list:\n",
    "        if i[1].startswith('J'):\n",
    "            tokens.append([i[0]])\n",
    "            tags.append([wn.ADJ])\n",
    "            #nested.append(list(zip([i[0]],[wn.ADJ])))\n",
    "        \n",
    "        elif i[1].startswith('N'):\n",
    "            tokens.append([i[0]])\n",
    "            tags.append([wn.NOUN])\n",
    "            #nested.append(list(zip([i[0]],[wn.NOUN])))\n",
    "        \n",
    "        elif i[1].startswith('R'):\n",
    "            tokens.append([i[0]])\n",
    "            tags.append([wn.ADV])\n",
    "            #nested.append(list(zip([i[0]],[wn.ADV])))\n",
    "        \n",
    "        elif i[1].startswith('V'):\n",
    "            tokens.append([i[0]])\n",
    "            tags.append([wn.VERB])\n",
    "            #nested.append(list(zip([i[0]],[wn.VERB])))\n",
    "            \n",
    "    tokens = [item for elem in tokens for item in elem]\n",
    "    tags = [item for elem in tags for item in elem]\n",
    "\n",
    "    \n",
    "    return tokens, tags"
   ]
  },
  {
   "cell_type": "code",
   "execution_count": null,
   "id": "bc9ff34e",
   "metadata": {},
   "outputs": [],
   "source": [
    "def POS_list_senti(POS_tag_list):\n",
    "    \n",
    "    nested = []\n",
    "    \n",
    "    for i in POS_tag_list:\n",
    "        if i[1].startswith('J'):\n",
    "            nested.append(list(zip([i[0]],[wn.ADJ])))\n",
    "        \n",
    "        elif i[1].startswith('N'):\n",
    "            nested.append(list(zip([i[0]],[wn.NOUN])))\n",
    "        \n",
    "        elif i[1].startswith('R'):\n",
    "            nested.append(list(zip([i[0]],[wn.ADV])))\n",
    "        \n",
    "        elif i[1].startswith('V'):\n",
    "            nested.append(list(zip([i[0]],[wn.VERB])))\n",
    "    \n",
    "    senti_tag_list = [ item for elem in nested for item in elem]\n",
    "\n",
    "    \n",
    "    return senti_tag_list"
   ]
  },
  {
   "cell_type": "code",
   "execution_count": null,
   "id": "e1d21622",
   "metadata": {},
   "outputs": [],
   "source": [
    "tag_list = POS_list_senti(POS_tag_list)"
   ]
  },
  {
   "cell_type": "code",
   "execution_count": null,
   "id": "e156d094",
   "metadata": {},
   "outputs": [],
   "source": [
    "tag_list"
   ]
  },
  {
   "cell_type": "markdown",
   "id": "2b224cdc",
   "metadata": {},
   "source": [
    "### Normalize: Lemmatiztion"
   ]
  },
  {
   "cell_type": "code",
   "execution_count": null,
   "id": "55839ba5",
   "metadata": {},
   "outputs": [],
   "source": [
    "# wordnet is a lexical database for the English language that helps the script determine the base word.\n",
    "# You need the averaged_perceptron_tagger resource to determine the context of a word in a sentence."
   ]
  },
  {
   "cell_type": "code",
   "execution_count": null,
   "id": "1b4642c5",
   "metadata": {},
   "outputs": [],
   "source": [
    "nltk.download('wordnet')\n",
    "nltk.download('averaged_perceptron_tagger')"
   ]
  },
  {
   "cell_type": "code",
   "execution_count": null,
   "id": "e60962b9",
   "metadata": {},
   "outputs": [],
   "source": [
    "def lemma_list (tag_list):\n",
    "    lemma_list = []\n",
    "    for i in tag_list:\n",
    "        lst = list(i)\n",
    "        lst[0] = WordNetLemmatizer().lemmatize(i[0], i[1])\n",
    "        lemma_list.append(tuple(lst))\n",
    "    return lemma_list\n",
    "    "
   ]
  },
  {
   "cell_type": "code",
   "execution_count": null,
   "id": "2ab1c3d4",
   "metadata": {},
   "outputs": [],
   "source": [
    "lemma_list(tag_list)"
   ]
  },
  {
   "cell_type": "markdown",
   "id": "dc039e0e",
   "metadata": {},
   "source": [
    "## Sentiment function (sentence)"
   ]
  },
  {
   "cell_type": "code",
   "execution_count": null,
   "id": "e744be81",
   "metadata": {},
   "outputs": [],
   "source": [
    "def sentiment_token(lemm_token)"
   ]
  },
  {
   "cell_type": "code",
   "execution_count": null,
   "id": "5c77be3e",
   "metadata": {},
   "outputs": [],
   "source": [
    "def sentiment_sentence(sentence):\n",
    "    tokens_s1 = word_tokenize(sentence)\n",
    "    clean_s1 = [word for word in tokens_s1 if word.isalpha()]\n",
    "    tagged_s1 = nltk.pos_tag(clean_s1)\n",
    "    return tagged_s1\n",
    "    \n",
    "   # for i in tagged_s1:\n",
    "    #    senti_tag(i)\n",
    "     #   print(senti_tag(i))\n",
    "        \n",
    "      #  print(len(list(swn.senti_synsets('slow','v'))))"
   ]
  },
  {
   "cell_type": "code",
   "execution_count": null,
   "id": "0a5989c1",
   "metadata": {},
   "outputs": [],
   "source": [
    "def sentiment(tagged_token):\n",
    "    return list(swn.senti_synsets(tagged_token))\n",
    "    \n",
    "    #swn.senti_synset('token.n.01')"
   ]
  },
  {
   "cell_type": "code",
   "execution_count": null,
   "id": "fe5328f4",
   "metadata": {},
   "outputs": [],
   "source": [
    "len(list(swn.senti_synsets(tag_list[0][0], tag_list[0][1])))"
   ]
  },
  {
   "cell_type": "code",
   "execution_count": null,
   "id": "72fad581",
   "metadata": {},
   "outputs": [],
   "source": [
    "'1'.zfill(2)"
   ]
  },
  {
   "cell_type": "code",
   "execution_count": null,
   "id": "ce214cb5",
   "metadata": {},
   "outputs": [],
   "source": [
    "tag_list"
   ]
  },
  {
   "cell_type": "code",
   "execution_count": null,
   "id": "6c130ea6",
   "metadata": {},
   "outputs": [],
   "source": [
    "def string_senti(tag_list):\n",
    "    for i in tag_list:\n",
    "        tok = i[0]\n",
    "        tg = i[1]\n",
    "        \n",
    "        print(tok +'.'+ tg +'.01')\n",
    "        \n",
    "        \n",
    "        #print(len(list(swn.senti_synsets(tok, tg))))\n"
   ]
  },
  {
   "cell_type": "code",
   "execution_count": null,
   "id": "78cb5ab0",
   "metadata": {},
   "outputs": [],
   "source": [
    "print(len(list(swn.senti_synsets(sa, tg))))"
   ]
  },
  {
   "cell_type": "code",
   "execution_count": null,
   "id": "9014ef61",
   "metadata": {},
   "outputs": [],
   "source": [
    "string_senti(tag_list)"
   ]
  },
  {
   "cell_type": "code",
   "execution_count": null,
   "id": "b2abac83",
   "metadata": {},
   "outputs": [],
   "source": [
    "synsets = wn.synsets('saved', 'v')"
   ]
  },
  {
   "cell_type": "code",
   "execution_count": null,
   "id": "f0934dce",
   "metadata": {},
   "outputs": [],
   "source": [
    "synsets"
   ]
  },
  {
   "cell_type": "code",
   "execution_count": null,
   "id": "9a59d768",
   "metadata": {},
   "outputs": [],
   "source": [
    "print(swn.senti_synset('save.n.01'))"
   ]
  },
  {
   "cell_type": "code",
   "execution_count": null,
   "id": "8207aab8",
   "metadata": {},
   "outputs": [],
   "source": [
    "sentiment_sentence(sentence_test)"
   ]
  },
  {
   "cell_type": "code",
   "execution_count": null,
   "id": "f8c8cbb0",
   "metadata": {},
   "outputs": [],
   "source": [
    "sentiment_sentence(sentence_test)"
   ]
  },
  {
   "cell_type": "code",
   "execution_count": null,
   "id": "3f80b17d",
   "metadata": {},
   "outputs": [],
   "source": []
  },
  {
   "cell_type": "markdown",
   "id": "3b4195ef",
   "metadata": {},
   "source": [
    "## Function to convert tag"
   ]
  },
  {
   "cell_type": "markdown",
   "id": "8542a349",
   "metadata": {},
   "source": [
    "The POS tag compatible with the sentiwordnet are:\n",
    "\n",
    "- n - NOUN\n",
    "- v - VERB\n",
    "- a - ADJECTIVE\n",
    "- s - ADJECTIVE SATELLITE\n",
    "- r - ADVERB"
   ]
  },
  {
   "cell_type": "code",
   "execution_count": null,
   "id": "be28c43f",
   "metadata": {},
   "outputs": [],
   "source": [
    "POS tag list:\n",
    "\n",
    "CC\tcoordinating conjunction\n",
    "CD\tcardinal digit\n",
    "DT\tdeterminer\n",
    "EX\texistential there (like: \"there is\" ... think of it like \"there exists\")\n",
    "FW\tforeign word\n",
    "IN\tpreposition/subordinating conjunction\n",
    "JJ\tadjective\t'big'\n",
    "JJR\tadjective, comparative\t'bigger'\n",
    "JJS\tadjective, superlative\t'biggest'\n",
    "LS\tlist marker\t1)\n",
    "MD\tmodal\tcould, will\n",
    "NN\tnoun, singular 'desk'\n",
    "NNS\tnoun plural\t'desks'\n",
    "NNP\tproper noun, singular\t'Harrison'\n",
    "NNPS\tproper noun, plural\t'Americans'\n",
    "PDT\tpredeterminer\t'all the kids'\n",
    "POS\tpossessive ending\tparent\\'s\n",
    "PRP\tpersonal pronoun\tI, he, she\n",
    "PRP$\tpossessive pronoun\tmy, his, hers\n",
    "RB\tadverb\tvery, silently,\n",
    "RBR\tadverb, comparative\tbetter\n",
    "RBS\tadverb, superlative\tbest\n",
    "RP\tparticle\tgive up\n",
    "TO\tto\tgo 'to' the store.\n",
    "UH\tinterjection\terrrrrrrrm\n",
    "VB\tverb, base form\ttake\n",
    "VBD\tverb, past tense\ttook\n",
    "VBG\tverb, gerund/present participle\ttaking\n",
    "VBN\tverb, past participle\ttaken\n",
    "VBP\tverb, sing. present, non-3d\ttake\n",
    "VBZ\tverb, 3rd person sing. present\ttakes\n",
    "WDT\twh-determiner\twhich\n",
    "WP\twh-pronoun\twho, what\n",
    "WP$\tpossessive wh-pronoun\twhose\n",
    "WRB\twh-abverb\twhere, when"
   ]
  },
  {
   "cell_type": "code",
   "execution_count": null,
   "id": "9ca930b8",
   "metadata": {},
   "outputs": [],
   "source": [
    "text = docx2txt.process('Test_Bad_New.docx')"
   ]
  },
  {
   "cell_type": "code",
   "execution_count": null,
   "id": "7fec463b",
   "metadata": {},
   "outputs": [],
   "source": [
    "text"
   ]
  },
  {
   "cell_type": "code",
   "execution_count": null,
   "id": "3a613c64",
   "metadata": {},
   "outputs": [],
   "source": [
    "sentences = nltk.tokenize.sent_tokenize(text)"
   ]
  },
  {
   "cell_type": "code",
   "execution_count": null,
   "id": "fc64755c",
   "metadata": {},
   "outputs": [],
   "source": [
    "#Deleting /n\n",
    "\n",
    "nested = [x.split('\\n') for x in sentences]\n",
    "\n",
    "flatList = [ item for elem in nested for item in elem]\n",
    "\n",
    "#Deleting empty strings\n",
    "\n",
    "sentences = list(filter(None, flatList))"
   ]
  },
  {
   "cell_type": "code",
   "execution_count": null,
   "id": "a0e9633b",
   "metadata": {},
   "outputs": [],
   "source": [
    "sentences"
   ]
  },
  {
   "cell_type": "code",
   "execution_count": null,
   "id": "191bd48d",
   "metadata": {},
   "outputs": [],
   "source": [
    "#tokens of each sentence\n",
    "\n",
    "tokens_s1 = word_tokenize(sentences[0])\n",
    "clean_s1 = [word for word in tokens_s1 if word.isalpha()]\n",
    "tagged_s1 = nltk.pos_tag(clean_s1)\n",
    "tagged_s1"
   ]
  },
  {
   "cell_type": "code",
   "execution_count": null,
   "id": "c052cfca",
   "metadata": {},
   "outputs": [],
   "source": [
    "a=swn.senti_synset('threat.n.01')"
   ]
  },
  {
   "cell_type": "code",
   "execution_count": null,
   "id": "14225604",
   "metadata": {
    "scrolled": true
   },
   "outputs": [],
   "source": [
    "print(swn.senti_synset('awful.a.01'))"
   ]
  },
  {
   "cell_type": "code",
   "execution_count": null,
   "id": "b9681a61",
   "metadata": {},
   "outputs": [],
   "source": [
    "a.pos_score()"
   ]
  },
  {
   "cell_type": "code",
   "execution_count": null,
   "id": "14cf0ae7",
   "metadata": {},
   "outputs": [],
   "source": [
    "a.neg_score()"
   ]
  },
  {
   "cell_type": "code",
   "execution_count": null,
   "id": "f4dfc0b4",
   "metadata": {},
   "outputs": [],
   "source": [
    "a.obj_score()"
   ]
  },
  {
   "cell_type": "code",
   "execution_count": null,
   "id": "683de273",
   "metadata": {},
   "outputs": [],
   "source": [
    "b=swn.senti_synset('threat.n.02')"
   ]
  },
  {
   "cell_type": "code",
   "execution_count": null,
   "id": "85dd4a79",
   "metadata": {},
   "outputs": [],
   "source": [
    "print(b)"
   ]
  },
  {
   "cell_type": "code",
   "execution_count": null,
   "id": "c21f292a",
   "metadata": {},
   "outputs": [],
   "source": [
    "len(list(swn.senti_synsets('threat')))"
   ]
  },
  {
   "cell_type": "code",
   "execution_count": null,
   "id": "ae396b38",
   "metadata": {},
   "outputs": [],
   "source": [
    "list(swn.senti_synsets('slow'))"
   ]
  },
  {
   "cell_type": "code",
   "execution_count": null,
   "id": "46fb2d5b",
   "metadata": {},
   "outputs": [],
   "source": [
    "len(list(swn.senti_synsets('slow','v'))) # --> per saber la length i poder iterar!!"
   ]
  },
  {
   "cell_type": "code",
   "execution_count": null,
   "id": "38fdafc6",
   "metadata": {},
   "outputs": [],
   "source": [
    "print(swn.senti_synset('slow.a.06'))"
   ]
  },
  {
   "cell_type": "code",
   "execution_count": null,
   "id": "ed82436a",
   "metadata": {},
   "outputs": [],
   "source": []
  },
  {
   "cell_type": "code",
   "execution_count": null,
   "id": "f0c850de",
   "metadata": {},
   "outputs": [],
   "source": [
    "print(swn.senti_synset('threat.n.04'))"
   ]
  },
  {
   "cell_type": "code",
   "execution_count": null,
   "id": "fa5f4177",
   "metadata": {},
   "outputs": [],
   "source": [
    "a.pos_score()"
   ]
  },
  {
   "cell_type": "code",
   "execution_count": null,
   "id": "b477a907",
   "metadata": {},
   "outputs": [],
   "source": [
    "P=0\n",
    "N=0\n",
    "for synst in good:\n",
    "\n",
    "    posscore=posscore+synst.pos_score()\n",
    "    negscore=negscore+synst.neg_score()"
   ]
  },
  {
   "cell_type": "code",
   "execution_count": null,
   "id": "4f6ed77b",
   "metadata": {},
   "outputs": [],
   "source": []
  },
  {
   "cell_type": "code",
   "execution_count": null,
   "id": "514d8934",
   "metadata": {},
   "outputs": [],
   "source": []
  },
  {
   "cell_type": "code",
   "execution_count": null,
   "id": "28fbffc7",
   "metadata": {},
   "outputs": [],
   "source": []
  },
  {
   "cell_type": "code",
   "execution_count": null,
   "id": "e7326fc8",
   "metadata": {},
   "outputs": [],
   "source": []
  },
  {
   "cell_type": "code",
   "execution_count": null,
   "id": "56c4480c",
   "metadata": {},
   "outputs": [],
   "source": []
  }
 ],
 "metadata": {
  "kernelspec": {
   "display_name": "Python 3",
   "language": "python",
   "name": "python3"
  },
  "language_info": {
   "codemirror_mode": {
    "name": "ipython",
    "version": 3
   },
   "file_extension": ".py",
   "mimetype": "text/x-python",
   "name": "python",
   "nbconvert_exporter": "python",
   "pygments_lexer": "ipython3",
   "version": "3.8.8"
  }
 },
 "nbformat": 4,
 "nbformat_minor": 5
}
