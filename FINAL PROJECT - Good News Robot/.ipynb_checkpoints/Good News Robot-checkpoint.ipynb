{
 "cells": [
  {
   "cell_type": "markdown",
   "id": "d1ae4f47",
   "metadata": {},
   "source": [
    "# GOOD NEWS ROBOT"
   ]
  },
  {
   "cell_type": "code",
   "execution_count": 468,
   "id": "210e2103",
   "metadata": {},
   "outputs": [],
   "source": [
    "import pandas as pd\n",
    "import numpy as np\n",
    "import matplotlib.pyplot as plt\n",
    "import sklearn\n",
    "%matplotlib inline\n",
    "import math\n",
    "import re"
   ]
  },
  {
   "cell_type": "code",
   "execution_count": 2,
   "id": "73d5aa3d",
   "metadata": {},
   "outputs": [],
   "source": [
    "from time import time\n",
    "from sklearn.feature_extraction.text import TfidfVectorizer, CountVectorizer\n",
    "from sklearn.naive_bayes import MultinomialNB\n",
    "from sklearn import metrics"
   ]
  },
  {
   "cell_type": "code",
   "execution_count": 3,
   "id": "75c18ce0",
   "metadata": {},
   "outputs": [],
   "source": [
    "from nltk.corpus import stopwords\n",
    "from nltk.tokenize import word_tokenize"
   ]
  },
  {
   "cell_type": "code",
   "execution_count": 4,
   "id": "287f9895",
   "metadata": {},
   "outputs": [],
   "source": [
    "import getpass\n",
    "import requests"
   ]
  },
  {
   "cell_type": "code",
   "execution_count": 5,
   "id": "5cd32a87",
   "metadata": {},
   "outputs": [],
   "source": [
    "import datetime\n",
    "from datetime import date\n",
    "from datetime import timedelta"
   ]
  },
  {
   "cell_type": "code",
   "execution_count": 60,
   "id": "8b58a2f5",
   "metadata": {},
   "outputs": [],
   "source": [
    "from textblob import TextBlob"
   ]
  },
  {
   "cell_type": "code",
   "execution_count": null,
   "id": "f26eea04",
   "metadata": {},
   "outputs": [],
   "source": [
    "import nltk\n",
    "from nltk.stem import WordNetLemmatizer"
   ]
  },
  {
   "cell_type": "code",
   "execution_count": 137,
   "id": "4f2d8335",
   "metadata": {},
   "outputs": [],
   "source": [
    "from wordcloud import WordCloud, STOPWORDS\n",
    "from PIL import Image"
   ]
  },
  {
   "cell_type": "code",
   "execution_count": 183,
   "id": "c87c2de9",
   "metadata": {},
   "outputs": [],
   "source": [
    "import ast"
   ]
  },
  {
   "cell_type": "markdown",
   "id": "f0fcab6d",
   "metadata": {},
   "source": [
    "# API"
   ]
  },
  {
   "cell_type": "markdown",
   "id": "cd66201d",
   "metadata": {},
   "source": [
    "### 1. NewsAPI connection"
   ]
  },
  {
   "cell_type": "code",
   "execution_count": 6,
   "id": "0989c5c7",
   "metadata": {},
   "outputs": [
    {
     "name": "stdout",
     "output_type": "stream",
     "text": [
      "NewsAPI key?········\n"
     ]
    }
   ],
   "source": [
    "API_KEY=str(getpass.getpass('NewsAPI key?'))"
   ]
  },
  {
   "cell_type": "markdown",
   "id": "d4128a70",
   "metadata": {},
   "source": [
    "### 2. Functions to run"
   ]
  },
  {
   "cell_type": "code",
   "execution_count": 7,
   "id": "678b77cc",
   "metadata": {},
   "outputs": [],
   "source": [
    "def lower_tok_stop(text):\n",
    "    \n",
    "    stop_words = stopwords.words('english')\n",
    "    \n",
    "    lower_text = text.lower()\n",
    "    tokens = word_tokenize(lower_text)\n",
    "    clean_tokens = [word for word in tokens if word.isalpha()]\n",
    "    remove_stop = [word for word in clean_tokens if not word in stop_words]\n",
    "    return remove_stop"
   ]
  },
  {
   "cell_type": "code",
   "execution_count": 8,
   "id": "6e93b940",
   "metadata": {},
   "outputs": [],
   "source": [
    "def TF_Naive_Bayes(dataNB):\n",
    "    train = pd.read_csv('BBC_train.csv')\n",
    "    test = pd.read_csv('BBC_test.csv')\n",
    "    \n",
    "    train_X = train['text_clean']   \n",
    "    train_y = train['label']   \n",
    "    data = dataNB['text_clean']\n",
    "    #test_X = test['text_clean']\n",
    "    #test_y = test['label']\n",
    "    \n",
    "    tf_vectorizer = CountVectorizer() # term frequency\n",
    "    X_train_tf = tf_vectorizer.fit_transform(train_X)\n",
    "    #debería meter aquí mi nuevo dataset\n",
    "    #X_test_tf = tf_vectorizer.transform(test_X)\n",
    "    X_data_tf = tf_vectorizer.transform(data)\n",
    "    \n",
    "    \n",
    "    Naive_Bayes = MultinomialNB()\n",
    "    Naive_Bayes.fit(X_train_tf, train_y)\n",
    "    \n",
    "    y_pred = Naive_Bayes.predict(X_data_tf)\n",
    "    \n",
    "    y_pred_cat = []\n",
    "    \n",
    "    for label in y_pred:\n",
    "        if label == 0:\n",
    "            y_pred_cat.append('business')    \n",
    "        elif label == 1:\n",
    "            y_pred_cat.append('entertainment')\n",
    "        elif label == 2:\n",
    "            y_pred_cat.append('politics')\n",
    "        elif label == 3:\n",
    "            y_pred_cat.append('sport')\n",
    "        elif label == 4:\n",
    "            y_pred_cat.append('tech')\n",
    "    \n",
    "    return y_pred_cat"
   ]
  },
  {
   "cell_type": "code",
   "execution_count": 9,
   "id": "fc34fb2b",
   "metadata": {},
   "outputs": [],
   "source": [
    "def create_API_data_today_df():\n",
    "    \n",
    "    responses = []\n",
    "\n",
    "    today = str(date.today())\n",
    "    last_week = pd.date_range(end=today, periods=8)\n",
    "    last_week_list = list(last_week.strftime(\"%Y-%m-%d\"))\n",
    "\n",
    "\n",
    "    for d in last_week_list:\n",
    "        r = requests.get('https://newsapi.org/v2/everything?from='+d+'&to='+d+'&sources=bbc-news&pageSize=100&apiKey='+API_KEY)\n",
    "        responses.append(r.json())\n",
    "        \n",
    "     \n",
    "    #getting title, description and url fields --> 'article' will be a nested list with all the articles:\n",
    "    \n",
    "    article = []\n",
    "\n",
    "    for day in responses:\n",
    "        for ar in day['articles']:\n",
    "            list_items = [ar['title'],ar['description'],ar['url']]\n",
    "            article.extend([list_items])\n",
    "    \n",
    "            \n",
    "    #create dataframe from article nested list:\n",
    "    \n",
    "    API_data = pd.DataFrame(article, columns=['title', 'description', 'url'])\n",
    "        \n",
    "    #create new column with cleaned text applying previously defined function lower_tok_stop\n",
    " \n",
    "    API_data['text_clean'] = (API_data[\"title\"] +'.'+ API_data[\"description\"]).apply(lower_tok_stop)\n",
    "    \n",
    "    API_data.to_csv('API_data_today.csv', index = False)\n",
    "\n",
    "    \n",
    "    return\n",
    "    "
   ]
  },
  {
   "cell_type": "code",
   "execution_count": 10,
   "id": "339df799",
   "metadata": {},
   "outputs": [],
   "source": [
    "create_API_data_today_df()"
   ]
  },
  {
   "cell_type": "code",
   "execution_count": 70,
   "id": "ad64f811",
   "metadata": {},
   "outputs": [],
   "source": [
    "def sentiment_analysis(text):\n",
    "    textblob = TextBlob(text)\n",
    "    sentiment = textblob.sentiment.polarity\n",
    "    return sentiment"
   ]
  },
  {
   "cell_type": "code",
   "execution_count": 220,
   "id": "ceae6205",
   "metadata": {},
   "outputs": [],
   "source": [
    "def convert_list_to_string(org_list, seperator=' '):\n",
    "    return seperator.join(org_list)"
   ]
  },
  {
   "cell_type": "code",
   "execution_count": 55,
   "id": "03c6fae4",
   "metadata": {},
   "outputs": [],
   "source": [
    "def plot_cloud(wordcloud):\n",
    "    plt.figure(figsize=(20,15))\n",
    "    plt.imshow(wordcloud)\n",
    "    #no axis details\n",
    "    plt.axis('off');"
   ]
  },
  {
   "cell_type": "code",
   "execution_count": 278,
   "id": "005a29a1",
   "metadata": {},
   "outputs": [],
   "source": [
    "def create_word_cloud(text):\n",
    "    \n",
    "    stopwords_cloud = STOPWORDS\n",
    "    more = ['two','three', 'four', 'five', 'six', 'seven', 'eight', 'nine', 'ten', 'bbc', 'BBC', 'latest', 'news', 'minute', 'bulletin']\n",
    "    stopwords_cloud.update(more)\n",
    "    \n",
    "    mask = np.array(Image.open('upvote.png'))\n",
    "    wordcloud = WordCloud(width = 1500, height = 1000, random_state = 1, background_color = 'white', colormap = 'tab10', collocations = False, stopwords = stopwords_cloud, mask = mask).generate(text)\n",
    "    \n",
    "    # to save the image\n",
    "    wordcloud.to_file('WordCloud_today.png')\n",
    "    \n",
    "    return plot_cloud(wordcloud)"
   ]
  },
  {
   "cell_type": "markdown",
   "id": "b30c2d8a",
   "metadata": {},
   "source": [
    "## Good News Robot Dataframe"
   ]
  },
  {
   "cell_type": "code",
   "execution_count": 293,
   "id": "4c8f4657",
   "metadata": {},
   "outputs": [],
   "source": [
    "def Good_News_Robot_df():\n",
    "    \n",
    "    df = pd.read_csv('API_data_today.csv')\n",
    "    \n",
    "    dataNB = df.drop(columns=['title', 'description', 'url'])\n",
    "    \n",
    "    df['category'] = TF_Naive_Bayes(dataNB)\n",
    "    df['sentiment'] = df['text_clean'].apply(lambda x: sentiment_analysis(x))\n",
    "    \n",
    "    df = df.sort_values(by=['sentiment'], ascending=False)\n",
    "    \n",
    "    df.to_csv('API_data_today_ML_Senti.csv', index = False)\n",
    "    \n",
    "    df_good_news = df[df['sentiment'] >= 0.5].reset_index(drop=True)\n",
    "    \n",
    "    return df_good_news"
   ]
  },
  {
   "cell_type": "code",
   "execution_count": 305,
   "id": "ebcca4e2",
   "metadata": {},
   "outputs": [],
   "source": [
    "#Good_News_Robot_df()"
   ]
  },
  {
   "cell_type": "markdown",
   "id": "eb692bc6",
   "metadata": {},
   "source": [
    "- *Good News Robot Skills - WordCloud*"
   ]
  },
  {
   "cell_type": "code",
   "execution_count": 294,
   "id": "13a5bd5a",
   "metadata": {},
   "outputs": [],
   "source": [
    "def Good_News_Robot_WordCloud():\n",
    "\n",
    "    df_good_news = Good_News_Robot_df()\n",
    "    df_good_news['text_cloud'] = df_good_news['text_clean'].apply(lambda x: ast.literal_eval(x)).apply(lambda x: convert_list_to_string(x))\n",
    "    \n",
    "    text_cloud_all = ' '.join(df_good_news['text_cloud'].tolist())\n",
    "    create_word_cloud(text_cloud_all)\n",
    "      \n",
    "    return "
   ]
  },
  {
   "cell_type": "markdown",
   "id": "a9866dc1",
   "metadata": {},
   "source": [
    "- *Good News Robot Skills - Category break out*"
   ]
  },
  {
   "cell_type": "code",
   "execution_count": 492,
   "id": "300dae7e",
   "metadata": {},
   "outputs": [],
   "source": [
    "def Good_Neutral_Bad_news_stack_bar():\n",
    "    \n",
    "    df = pd.read_csv('API_data_today_ML_Senti.csv')\n",
    "\n",
    "    groups = df['category'].value_counts().sort_index()\n",
    "    category = groups.index.tolist()\n",
    "    category_freq = groups.tolist()\n",
    "\n",
    "    positive_subset = df[df['sentiment'] >= 0.5].reset_index(drop=True)\n",
    "    negative_subset = df[df['sentiment'] <= -0.5].reset_index(drop=True)\n",
    "    neutral_subset = df[df['sentiment'].between(-0.5, 0.5, inclusive = False)].reset_index(drop=True)\n",
    "\n",
    "    groups_positive = positive_subset['category'].value_counts().sort_index().tolist()\n",
    "    groups_negative = negative_subset['category'].value_counts().sort_index().tolist()\n",
    "    groups_neutral = neutral_subset['category'].value_counts().sort_index().tolist()\n",
    "\n",
    "    positive_scores_count =  np.array(groups_positive)\n",
    "    neutral_scores_count = np.array(groups_neutral)\n",
    "    negative_scores_count = np.array(groups_negative)\n",
    "\n",
    "    ind = np.arange(5)    \n",
    "    width = 0.35       \n",
    "\n",
    "    p1 = plt.bar(ind, negative_scores_count, width, color='blue', )\n",
    "    p2 = plt.bar(ind, neutral_scores_count, width, color='palegreen', bottom=negative_scores_count)\n",
    "    p3 = plt.bar(ind, positive_scores_count, width, color='orange', bottom = negative_scores_count+neutral_scores_count)\n",
    "\n",
    "    plt.ylabel('Count')\n",
    "    plt.title('Good News, Neutral and Bad News')\n",
    "    plt.xticks(ind, category)\n",
    "    plt.legend((p1[0], p2[0], p3[0]), ('Bad News', 'Neutral', 'Good News'))\n",
    "\n",
    "    plt.show()\n",
    "    \n",
    "    return"
   ]
  },
  {
   "cell_type": "code",
   "execution_count": null,
   "id": "38bf22f8",
   "metadata": {},
   "outputs": [],
   "source": []
  },
  {
   "cell_type": "code",
   "execution_count": null,
   "id": "16b15a74",
   "metadata": {},
   "outputs": [],
   "source": []
  },
  {
   "cell_type": "code",
   "execution_count": null,
   "id": "59c9c050",
   "metadata": {},
   "outputs": [],
   "source": []
  },
  {
   "cell_type": "code",
   "execution_count": null,
   "id": "87cdaeec",
   "metadata": {},
   "outputs": [],
   "source": []
  },
  {
   "cell_type": "markdown",
   "id": "569d619e",
   "metadata": {},
   "source": [
    "# ----------------------------------------------------------------------------------------"
   ]
  },
  {
   "cell_type": "code",
   "execution_count": 329,
   "id": "62a40e48",
   "metadata": {},
   "outputs": [],
   "source": [
    "# getting positive , neg and neutral scores by cat"
   ]
  },
  {
   "cell_type": "code",
   "execution_count": 490,
   "id": "77e7a9e5",
   "metadata": {},
   "outputs": [],
   "source": []
  },
  {
   "cell_type": "code",
   "execution_count": 491,
   "id": "0f73191f",
   "metadata": {},
   "outputs": [
    {
     "data": {
      "image/png": "[encoded data removed]",
      "text/plain": [
       "<Figure size 432x288 with 1 Axes>"
      ]
     },
     "metadata": {
      "needs_background": "light"
     },
     "output_type": "display_data"
    }
   ],
   "source": [
    "Good_Neutral_Bad_news_stack_bar()"
   ]
  },
  {
   "cell_type": "markdown",
   "id": "a5116c09",
   "metadata": {},
   "source": [
    "### 2. API multiple request function: last week news data"
   ]
  },
  {
   "cell_type": "markdown",
   "id": "249a499f",
   "metadata": {},
   "source": [
    "- We will take the first 100 news of the last 8 days (eg. If tody is monday, we will take from last monday to current monday, both included)"
   ]
  },
  {
   "cell_type": "code",
   "execution_count": null,
   "id": "c6311cb8",
   "metadata": {},
   "outputs": [],
   "source": [
    "def NewsAPI_request_8days():\n",
    "    \n",
    "    responses = []\n",
    "    \n",
    "    today = str(date.today())\n",
    "    last_week = pd.date_range(end=today, periods=8)\n",
    "    last_week_list = list(last_week.strftime(\"%Y-%m-%d\"))\n",
    "    \n",
    "    \n",
    "    for d in last_week_list:\n",
    "        r = requests.get('https://newsapi.org/v2/everything?from='+d+'&to='+d+'&sources=bbc-news&pageSize=100&apiKey='+API_KEY)\n",
    "        responses.append(r.json())\n",
    "                        \n",
    "    return responses"
   ]
  },
  {
   "cell_type": "code",
   "execution_count": null,
   "id": "dce64544",
   "metadata": {},
   "outputs": [],
   "source": [
    "responses = []\n",
    "    \n",
    "today = str(date.today())\n",
    "last_week = pd.date_range(end=today, periods=8)\n",
    "last_week_list = list(last_week.strftime(\"%Y-%m-%d\"))\n",
    "    \n",
    "    \n",
    "for d in last_week_list:\n",
    "    r = requests.get('https://newsapi.org/v2/everything?from='+d+'&to='+d+'&sources=bbc-news&pageSize=100&apiKey='+API_KEY)\n",
    "    responses.append(r.json())"
   ]
  },
  {
   "cell_type": "code",
   "execution_count": null,
   "id": "ba8bf0d2",
   "metadata": {},
   "outputs": [],
   "source": [
    "responses"
   ]
  },
  {
   "cell_type": "code",
   "execution_count": null,
   "id": "68767c6e",
   "metadata": {},
   "outputs": [],
   "source": [
    "len(responses)"
   ]
  },
  {
   "cell_type": "code",
   "execution_count": null,
   "id": "872b7bce",
   "metadata": {},
   "outputs": [],
   "source": [
    "len(responses[7]['articles'])"
   ]
  },
  {
   "cell_type": "code",
   "execution_count": null,
   "id": "d12d862e",
   "metadata": {},
   "outputs": [],
   "source": [
    "article = []\n",
    "    \n",
    "for day in responses:\n",
    "    for ar in day['articles']:\n",
    "        list_items = [ar['title'],ar['description'],ar['url']]\n",
    "        article.extend([list_items])"
   ]
  },
  {
   "cell_type": "code",
   "execution_count": null,
   "id": "ca64ad37",
   "metadata": {},
   "outputs": [],
   "source": [
    "article"
   ]
  },
  {
   "cell_type": "markdown",
   "id": "993b191d",
   "metadata": {},
   "source": [
    "### 3. Storing relevant data from API into Dataframe"
   ]
  },
  {
   "cell_type": "code",
   "execution_count": null,
   "id": "1acb858c",
   "metadata": {},
   "outputs": [],
   "source": [
    "def get_news_text(responses):\n",
    "    \n",
    "    article = []\n",
    "    \n",
    "    for day in responses:\n",
    "        \n",
    "        for ar in day['articles']:\n",
    "            list_items = [ar['title'],ar['description'],ar['url']]\n",
    "            article.extend([list_items])\n",
    "    \n",
    "    return article\n",
    "    "
   ]
  },
  {
   "cell_type": "code",
   "execution_count": null,
   "id": "9df8873e",
   "metadata": {},
   "outputs": [],
   "source": [
    "get_news_text(responses)"
   ]
  },
  {
   "cell_type": "code",
   "execution_count": null,
   "id": "3dadf5c5",
   "metadata": {},
   "outputs": [],
   "source": [
    "nested_data = get_news_text(responses_8_days)"
   ]
  },
  {
   "cell_type": "code",
   "execution_count": null,
   "id": "40a4da23",
   "metadata": {},
   "outputs": [],
   "source": [
    "NewsAPI_BBC_df = pd.DataFrame(nested_data, columns=['title', 'description', 'url'])"
   ]
  },
  {
   "cell_type": "code",
   "execution_count": null,
   "id": "b5d0f4af",
   "metadata": {},
   "outputs": [],
   "source": []
  },
  {
   "cell_type": "code",
   "execution_count": null,
   "id": "07d118d1",
   "metadata": {},
   "outputs": [],
   "source": [
    "NewsAPI_BBC_df.to_csv('BBC_df_8days_API_28_07_2021.csv', index=False)"
   ]
  },
  {
   "cell_type": "code",
   "execution_count": null,
   "id": "d0347db0",
   "metadata": {},
   "outputs": [],
   "source": [
    "API_data = pd.read_csv('BBC_df_8days_API_28_07_2021.csv')"
   ]
  },
  {
   "cell_type": "code",
   "execution_count": null,
   "id": "6f160f38",
   "metadata": {
    "scrolled": true
   },
   "outputs": [],
   "source": [
    "API_data"
   ]
  },
  {
   "cell_type": "markdown",
   "id": "b1e2283e",
   "metadata": {},
   "source": [
    "### 4. Processing API Dataframe"
   ]
  },
  {
   "cell_type": "markdown",
   "id": "aaa765e8",
   "metadata": {},
   "source": [
    " #### 4.1 Creating text column"
   ]
  },
  {
   "cell_type": "code",
   "execution_count": null,
   "id": "48aebe1a",
   "metadata": {},
   "outputs": [],
   "source": [
    "API_data['text_clean'] = (API_data[\"title\"] +'.'+ API_data[\"description\"]).apply(lower_tok_stop)"
   ]
  },
  {
   "cell_type": "code",
   "execution_count": null,
   "id": "ebc30a2c",
   "metadata": {},
   "outputs": [],
   "source": [
    "API_data"
   ]
  },
  {
   "cell_type": "code",
   "execution_count": null,
   "id": "94be3e1a",
   "metadata": {},
   "outputs": [],
   "source": [
    "API_data['text_clean']"
   ]
  },
  {
   "cell_type": "code",
   "execution_count": null,
   "id": "92238a59",
   "metadata": {
    "scrolled": true
   },
   "outputs": [],
   "source": [
    "data"
   ]
  },
  {
   "cell_type": "code",
   "execution_count": null,
   "id": "51971dcd",
   "metadata": {},
   "outputs": [],
   "source": [
    "TF_Naive_Bayes(data)"
   ]
  },
  {
   "cell_type": "markdown",
   "id": "5b4f8741",
   "metadata": {},
   "source": [
    "#### 4.2 Removing unnecessary columns & applying lower_tok_stop"
   ]
  },
  {
   "cell_type": "code",
   "execution_count": null,
   "id": "c3f9a673",
   "metadata": {},
   "outputs": [],
   "source": [
    "API_data = API_data.drop(columns=['title', 'description', 'url'])"
   ]
  },
  {
   "cell_type": "code",
   "execution_count": null,
   "id": "688ab729",
   "metadata": {},
   "outputs": [],
   "source": [
    "API_data['text_clean'] = API_data['text'].apply(lower_tok_stop)"
   ]
  },
  {
   "cell_type": "code",
   "execution_count": null,
   "id": "292e7ea8",
   "metadata": {},
   "outputs": [],
   "source": [
    "API_data = API_data.drop(columns = 'text')"
   ]
  },
  {
   "cell_type": "code",
   "execution_count": null,
   "id": "fab9e0b2",
   "metadata": {},
   "outputs": [],
   "source": [
    "API_data"
   ]
  },
  {
   "cell_type": "code",
   "execution_count": null,
   "id": "bf52a26c",
   "metadata": {},
   "outputs": [],
   "source": [
    "API_data.to_csv('API_data_cleaned.csv', index = False)"
   ]
  },
  {
   "cell_type": "code",
   "execution_count": null,
   "id": "bf1a0b95",
   "metadata": {},
   "outputs": [],
   "source": [
    "df"
   ]
  },
  {
   "cell_type": "code",
   "execution_count": null,
   "id": "6e529fda",
   "metadata": {},
   "outputs": [],
   "source": []
  },
  {
   "cell_type": "markdown",
   "id": "af44319b",
   "metadata": {},
   "source": [
    "# TF VECTORIZER"
   ]
  },
  {
   "cell_type": "code",
   "execution_count": null,
   "id": "7d894bb3",
   "metadata": {},
   "outputs": [],
   "source": [
    "train = pd.read_csv('BBC_news_train.csv')\n"
   ]
  },
  {
   "cell_type": "code",
   "execution_count": null,
   "id": "2264c32e",
   "metadata": {},
   "outputs": [],
   "source": [
    "train.head()"
   ]
  },
  {
   "cell_type": "markdown",
   "id": "8b14a2a8",
   "metadata": {},
   "source": [
    "# NEWS CATEGORIZATION"
   ]
  },
  {
   "cell_type": "code",
   "execution_count": null,
   "id": "70cdb8c0",
   "metadata": {},
   "outputs": [],
   "source": [
    "df = pd.read_csv('bbc-news-data.csv', sep='\\t')"
   ]
  },
  {
   "cell_type": "code",
   "execution_count": null,
   "id": "9f3d6839",
   "metadata": {
    "scrolled": true
   },
   "outputs": [],
   "source": [
    "df.head()"
   ]
  },
  {
   "cell_type": "code",
   "execution_count": null,
   "id": "09270a4e",
   "metadata": {},
   "outputs": [],
   "source": [
    "df.shape"
   ]
  },
  {
   "cell_type": "code",
   "execution_count": null,
   "id": "aa84b73a",
   "metadata": {},
   "outputs": [],
   "source": [
    "df = df.drop(columns=['filename'])"
   ]
  },
  {
   "cell_type": "code",
   "execution_count": null,
   "id": "403c69c7",
   "metadata": {},
   "outputs": [],
   "source": [
    "df.isnull().sum()"
   ]
  },
  {
   "cell_type": "markdown",
   "id": "fa8a9f86",
   "metadata": {},
   "source": [
    "### Creating text column: title + content"
   ]
  },
  {
   "cell_type": "code",
   "execution_count": null,
   "id": "bd629602",
   "metadata": {},
   "outputs": [],
   "source": [
    "df[\"text\"] = df[\"title\"] +'.'+ df[\"content\"]"
   ]
  },
  {
   "cell_type": "code",
   "execution_count": null,
   "id": "e2c3545a",
   "metadata": {},
   "outputs": [],
   "source": [
    "df = df.drop_duplicates()"
   ]
  },
  {
   "cell_type": "code",
   "execution_count": null,
   "id": "72196575",
   "metadata": {},
   "outputs": [],
   "source": [
    "df.shape"
   ]
  },
  {
   "cell_type": "code",
   "execution_count": null,
   "id": "8627affb",
   "metadata": {},
   "outputs": [],
   "source": [
    "duplicated_content = df[df.duplicated(subset=['content'], keep=False)]"
   ]
  },
  {
   "cell_type": "code",
   "execution_count": null,
   "id": "b0898007",
   "metadata": {},
   "outputs": [],
   "source": [
    "duplicated_content"
   ]
  },
  {
   "cell_type": "markdown",
   "id": "de6fa8e3",
   "metadata": {},
   "source": [
    "- We have some news that are the same but have different headers. We keep them anyway"
   ]
  },
  {
   "cell_type": "markdown",
   "id": "dba05df3",
   "metadata": {},
   "source": [
    "### Label encoding"
   ]
  },
  {
   "cell_type": "code",
   "execution_count": null,
   "id": "5f1407a2",
   "metadata": {},
   "outputs": [],
   "source": [
    "df['category'].unique()"
   ]
  },
  {
   "cell_type": "markdown",
   "id": "14bd7111",
   "metadata": {},
   "source": [
    "- business: 0\n",
    "- entertainment: 1\n",
    "- politics: 2\n",
    "- sport: 3\n",
    "- tech: 4"
   ]
  },
  {
   "cell_type": "code",
   "execution_count": null,
   "id": "bfbc9fd3",
   "metadata": {},
   "outputs": [],
   "source": [
    "def label(category):\n",
    "    if category == 'business':\n",
    "        return 0\n",
    "    elif category == 'entertainment':\n",
    "        return 1\n",
    "    elif category == 'politics':\n",
    "        return 2\n",
    "    elif category == 'sport':\n",
    "        return 3\n",
    "    elif category == 'tech':\n",
    "        return 4\n",
    "    else:\n",
    "        return None"
   ]
  },
  {
   "cell_type": "code",
   "execution_count": null,
   "id": "9786f4c2",
   "metadata": {},
   "outputs": [],
   "source": [
    "df['label']=df['category'].apply(lambda x: label(x))"
   ]
  },
  {
   "cell_type": "code",
   "execution_count": null,
   "id": "643d184d",
   "metadata": {},
   "outputs": [],
   "source": [
    "df"
   ]
  },
  {
   "cell_type": "code",
   "execution_count": null,
   "id": "cfdc51f2",
   "metadata": {},
   "outputs": [],
   "source": [
    "groups = df['category'].value_counts()"
   ]
  },
  {
   "cell_type": "code",
   "execution_count": null,
   "id": "41b5c758",
   "metadata": {},
   "outputs": [],
   "source": [
    "groups"
   ]
  },
  {
   "cell_type": "code",
   "execution_count": null,
   "id": "423014e5",
   "metadata": {},
   "outputs": [],
   "source": [
    "ax = groups.plot(kind = 'bar', color=['gold', 'lightskyblue', 'palegreen', 'orange', 'pink'])"
   ]
  },
  {
   "cell_type": "markdown",
   "id": "10720839",
   "metadata": {},
   "source": [
    "### Preprocessing"
   ]
  },
  {
   "cell_type": "markdown",
   "id": "d7769cd9",
   "metadata": {},
   "source": [
    "In order to make the model more efficient, let's clean the text"
   ]
  },
  {
   "cell_type": "code",
   "execution_count": null,
   "id": "089e4ded",
   "metadata": {},
   "outputs": [],
   "source": [
    "from nltk.corpus import stopwords\n",
    "from nltk.tokenize import word_tokenize"
   ]
  },
  {
   "cell_type": "code",
   "execution_count": null,
   "id": "8d7a1ae0",
   "metadata": {},
   "outputs": [],
   "source": [
    "#stop_words = stopwords.words('english')"
   ]
  },
  {
   "cell_type": "markdown",
   "id": "34bba309",
   "metadata": {},
   "source": [
    "#### Lower the data, tokenize and remove stopwords"
   ]
  },
  {
   "cell_type": "code",
   "execution_count": null,
   "id": "49126bbf",
   "metadata": {},
   "outputs": [],
   "source": [
    "#df['title'] = df['title'].apply(lambda x: x.lower())\n",
    "#df['content'] = df['content'].apply(lambda x: x.lower())\n",
    "#df['text'] = df['text'].apply(lambda x: x.lower())"
   ]
  },
  {
   "cell_type": "code",
   "execution_count": null,
   "id": "d885d343",
   "metadata": {},
   "outputs": [],
   "source": [
    "#def tokenize(text):\n",
    "#    tokenized = word_tokenize(text)\n",
    "#    return tokenized"
   ]
  },
  {
   "cell_type": "code",
   "execution_count": null,
   "id": "3903ff64",
   "metadata": {},
   "outputs": [],
   "source": [
    "def lower_tok_stop(text):\n",
    "    \n",
    "    stop_words = stopwords.words('english')\n",
    "    \n",
    "    lower_text = text.lower()\n",
    "    tokens = word_tokenize(lower_text)\n",
    "    clean_tokens = [word for word in tokens if word.isalpha()]\n",
    "    remove_stop = [word for word in clean_tokens if not word in stop_words]\n",
    "    return remove_stop"
   ]
  },
  {
   "cell_type": "code",
   "execution_count": null,
   "id": "7cb71dd7",
   "metadata": {},
   "outputs": [],
   "source": [
    "df['text_clean'] = df['text'].apply(lower_tok_stop)"
   ]
  },
  {
   "cell_type": "code",
   "execution_count": null,
   "id": "4ab92ec2",
   "metadata": {},
   "outputs": [],
   "source": [
    "df"
   ]
  },
  {
   "cell_type": "code",
   "execution_count": null,
   "id": "f8d071f3",
   "metadata": {},
   "outputs": [],
   "source": [
    "df = df.reset_index(drop=True)"
   ]
  },
  {
   "cell_type": "code",
   "execution_count": null,
   "id": "9fc03732",
   "metadata": {},
   "outputs": [],
   "source": [
    "df.to_csv('bbc-news-data-processed.csv')"
   ]
  },
  {
   "cell_type": "markdown",
   "id": "d1a5cfc6",
   "metadata": {},
   "source": [
    "## Maybe later increase stopwords!! also, us..."
   ]
  },
  {
   "cell_type": "code",
   "execution_count": null,
   "id": "a443e56a",
   "metadata": {},
   "outputs": [],
   "source": []
  },
  {
   "cell_type": "code",
   "execution_count": null,
   "id": "fc6962a3",
   "metadata": {},
   "outputs": [],
   "source": []
  },
  {
   "cell_type": "markdown",
   "id": "34b01ebc",
   "metadata": {},
   "source": [
    "## Feature engineering: TF-IDF"
   ]
  },
  {
   "cell_type": "markdown",
   "id": "8b404121",
   "metadata": {},
   "source": [
    "TF-IDF (Term Frequency Inverse Document Frequency) is an algorithm to transform text into a meaningful representation of numbers which is used to fit machine algorithm for prediction"
   ]
  },
  {
   "cell_type": "markdown",
   "id": "538f96f6",
   "metadata": {},
   "source": [
    "TfidfVectorizer - Transforms text to feature vectors that can be used as input to estimator"
   ]
  },
  {
   "cell_type": "markdown",
   "id": "b28fcfb8",
   "metadata": {},
   "source": [
    "https://iq.opengenus.org/naive-bayes-on-tf-idf-vectorized-matrix/"
   ]
  },
  {
   "cell_type": "markdown",
   "id": "5360c8d3",
   "metadata": {},
   "source": [
    "- tf: Term Frequency = count(t, d) i.e., count of term t in document d.\n",
    "- idf: inverse document frequency function --> idf ( t, d ) = log ( D / { d ∈ D : t ∈ d })\n"
   ]
  },
  {
   "cell_type": "markdown",
   "id": "e9fb9cbf",
   "metadata": {},
   "source": [
    "- t is the term/ word\n",
    "- d is the document\n",
    "- D is the total number of documents\n",
    "- { d ∈ D : t ∈ d } denotes the number of documents in which t occur"
   ]
  },
  {
   "cell_type": "markdown",
   "id": "4ed7fb18",
   "metadata": {},
   "source": [
    "- **tf-idf = tf * idf**"
   ]
  },
  {
   "cell_type": "markdown",
   "id": "b680c1ea",
   "metadata": {},
   "source": [
    "## Split train and test datases: 70/30"
   ]
  },
  {
   "cell_type": "markdown",
   "id": "f2cc8548",
   "metadata": {},
   "source": [
    "The dataset is sorted alphabetically by category! I will inercalate them using label"
   ]
  },
  {
   "cell_type": "code",
   "execution_count": null,
   "id": "0036a0a5",
   "metadata": {},
   "outputs": [],
   "source": [
    "df.groupby('label').cumcount()"
   ]
  },
  {
   "cell_type": "code",
   "execution_count": null,
   "id": "2d5d7941",
   "metadata": {},
   "outputs": [],
   "source": [
    "df['label_cumcounts'] = df.groupby('label').cumcount()\n",
    "\n",
    "df=df.sort_values(['label_cumcounts', 'label'])\n",
    "df=df.drop(columns=['label_cumcounts'])"
   ]
  },
  {
   "cell_type": "code",
   "execution_count": null,
   "id": "83cf24de",
   "metadata": {},
   "outputs": [],
   "source": [
    "df.tail(10)"
   ]
  },
  {
   "cell_type": "code",
   "execution_count": null,
   "id": "2bc664c3",
   "metadata": {},
   "outputs": [],
   "source": [
    "df = df.sample(frac=1).reset_index(drop=True)"
   ]
  },
  {
   "cell_type": "code",
   "execution_count": null,
   "id": "69052936",
   "metadata": {},
   "outputs": [],
   "source": [
    "df.tail(10)"
   ]
  },
  {
   "cell_type": "code",
   "execution_count": null,
   "id": "31a56693",
   "metadata": {},
   "outputs": [],
   "source": [
    "df_train = df.tail(round(len(df['category'])*0.7)).reset_index(drop=True)"
   ]
  },
  {
   "cell_type": "code",
   "execution_count": null,
   "id": "560945ce",
   "metadata": {},
   "outputs": [],
   "source": [
    "df_test = df.head(round(len(df['category'])*0.3)).reset_index(drop=True)"
   ]
  },
  {
   "cell_type": "code",
   "execution_count": null,
   "id": "7b9300a0",
   "metadata": {},
   "outputs": [],
   "source": [
    "df_train.shape"
   ]
  },
  {
   "cell_type": "code",
   "execution_count": null,
   "id": "f2672f55",
   "metadata": {},
   "outputs": [],
   "source": [
    "df_test.shape"
   ]
  },
  {
   "cell_type": "code",
   "execution_count": null,
   "id": "c3cfc5e8",
   "metadata": {},
   "outputs": [],
   "source": [
    "#df_train.to_csv('BBC_news_train.csv', index=False)\n",
    "#df_test.to_csv('BBC_news_test.csv', index=False)"
   ]
  },
  {
   "cell_type": "markdown",
   "id": "a0ccaa1f",
   "metadata": {},
   "source": [
    "- Once I created train and test csv's, I comment the code so that they are not overwritten, as they were created using a function that randomizes the sorting"
   ]
  },
  {
   "cell_type": "code",
   "execution_count": null,
   "id": "4bcd5628",
   "metadata": {},
   "outputs": [],
   "source": [
    "df_train['category'].hist()"
   ]
  },
  {
   "cell_type": "code",
   "execution_count": null,
   "id": "2b7f28a5",
   "metadata": {},
   "outputs": [],
   "source": [
    "df_test['category'].hist()"
   ]
  },
  {
   "cell_type": "markdown",
   "id": "71065ba6",
   "metadata": {},
   "source": [
    "# TF VECTORIZER MODEL"
   ]
  },
  {
   "cell_type": "code",
   "execution_count": null,
   "id": "ee203c30",
   "metadata": {},
   "outputs": [],
   "source": [
    "from time import time\n",
    "from sklearn.feature_extraction.text import TfidfVectorizer, CountVectorizer\n",
    "from sklearn.naive_bayes import MultinomialNB\n",
    "from sklearn import metrics"
   ]
  },
  {
   "cell_type": "code",
   "execution_count": null,
   "id": "7643d86d",
   "metadata": {},
   "outputs": [],
   "source": []
  },
  {
   "cell_type": "code",
   "execution_count": null,
   "id": "3fe84bc2",
   "metadata": {},
   "outputs": [],
   "source": [
    "train = pd.read_csv('BBC_train.csv')\n",
    "test = pd.read_csv('BBC_test.csv')"
   ]
  },
  {
   "cell_type": "code",
   "execution_count": null,
   "id": "e7960154",
   "metadata": {},
   "outputs": [],
   "source": [
    "train_X = train['text_clean']   \n",
    "train_y = train['label']   \n",
    "test_X = test['text_clean']\n",
    "test_y = test['label']"
   ]
  },
  {
   "cell_type": "code",
   "execution_count": null,
   "id": "8f9dc6bd",
   "metadata": {},
   "outputs": [],
   "source": [
    "#train.to_csv('BBC_train.csv', index=False)\n",
    "#test.to_csv('BBC_test.csv', index=False)"
   ]
  },
  {
   "cell_type": "code",
   "execution_count": null,
   "id": "76d5098d",
   "metadata": {},
   "outputs": [],
   "source": []
  },
  {
   "cell_type": "markdown",
   "id": "9552a629",
   "metadata": {},
   "source": [
    "## Applying tf vectorizer (count vectorizer)"
   ]
  },
  {
   "cell_type": "markdown",
   "id": "35decf3c",
   "metadata": {},
   "source": [
    "- to extract features from training data"
   ]
  },
  {
   "cell_type": "code",
   "execution_count": null,
   "id": "4d9a4a50",
   "metadata": {},
   "outputs": [],
   "source": [
    "tf_vectorizer = CountVectorizer() # term frequency\n",
    "\n",
    "X_train_tf = tf_vectorizer.fit_transform(train_X)\n",
    "\n",
    "print(\"n_samples: %d, n_features: %d\" % X_train_tf.shape)"
   ]
  },
  {
   "cell_type": "markdown",
   "id": "8b9c039c",
   "metadata": {},
   "source": [
    "##  Transforming test data into tf-vectorized matrix"
   ]
  },
  {
   "cell_type": "markdown",
   "id": "a4888fc1",
   "metadata": {},
   "source": [
    "- to extract features from test data"
   ]
  },
  {
   "cell_type": "code",
   "execution_count": null,
   "id": "56ee228c",
   "metadata": {},
   "outputs": [],
   "source": [
    "X_test_tf = tf_vectorizer.transform(test_X)\n",
    "\n",
    "print(\"n_samples: %d, n_features: %d\" % X_test_tf.shape)"
   ]
  },
  {
   "cell_type": "markdown",
   "id": "3e842455",
   "metadata": {},
   "source": [
    "# Naive Bayes"
   ]
  },
  {
   "cell_type": "code",
   "execution_count": null,
   "id": "0be9201d",
   "metadata": {},
   "outputs": [],
   "source": [
    "t = time()\n",
    "\n",
    "Naive_Bayes = MultinomialNB()\n",
    "Naive_Bayes.fit(X_train_tf, train_y)\n",
    "\n",
    "training_time = time() - t\n",
    "print(\"train time: %0.3fs\" % training_time)"
   ]
  },
  {
   "cell_type": "markdown",
   "id": "5dd36a83",
   "metadata": {},
   "source": [
    "### Calculating accuracy and generating classification report from test data"
   ]
  },
  {
   "cell_type": "code",
   "execution_count": null,
   "id": "aec28af0",
   "metadata": {},
   "outputs": [],
   "source": [
    "# predict the new document from the testing dataset\n",
    "t = time()\n",
    "y_pred = Naive_Bayes.predict(X_test_tf)\n",
    "\n",
    "test_time = time() - t\n",
    "print(\"test time:  %0.3fs\" % test_time)\n",
    "\n",
    "# compute the performance measures\n",
    "score1 = metrics.accuracy_score(test_y, y_pred)\n",
    "print(\"accuracy:   %0.3f\" % score1)\n",
    "\n",
    "print(metrics.classification_report(test_y, y_pred, target_names=['0','1', '2', '3', '4']))\n",
    "\n",
    "print(\"confusion matrix:\")\n",
    "print(metrics.confusion_matrix(test_y, y_pred))\n",
    "\n",
    "print('------------------------------')"
   ]
  },
  {
   "cell_type": "code",
   "execution_count": null,
   "id": "0074223d",
   "metadata": {},
   "outputs": [],
   "source": [
    "len(y_pred)"
   ]
  },
  {
   "cell_type": "code",
   "execution_count": null,
   "id": "7ea17148",
   "metadata": {},
   "outputs": [],
   "source": []
  },
  {
   "cell_type": "markdown",
   "id": "5d4b781e",
   "metadata": {},
   "source": [
    "# TF / Naive-Bayes function to predict"
   ]
  },
  {
   "cell_type": "code",
   "execution_count": null,
   "id": "47ad2ea2",
   "metadata": {},
   "outputs": [],
   "source": [
    "dataNB"
   ]
  },
  {
   "cell_type": "code",
   "execution_count": null,
   "id": "0158b9e7",
   "metadata": {},
   "outputs": [],
   "source": []
  },
  {
   "cell_type": "code",
   "execution_count": null,
   "id": "73b3fcd0",
   "metadata": {},
   "outputs": [],
   "source": [
    "def TF_Naive_Bayes(dataNB):\n",
    "    train = pd.read_csv('BBC_train.csv')\n",
    "    test = pd.read_csv('BBC_test.csv')\n",
    "    \n",
    "    train_X = train['text_clean']   \n",
    "    train_y = train['label']   \n",
    "    data = dataNB['text_clean']\n",
    "    #test_X = test['text_clean']\n",
    "    #test_y = test['label']\n",
    "    \n",
    "    tf_vectorizer = CountVectorizer() # term frequency\n",
    "    X_train_tf = tf_vectorizer.fit_transform(train_X)\n",
    "    #debería meter aquí mi nuevo dataset\n",
    "    #X_test_tf = tf_vectorizer.transform(test_X)\n",
    "    X_data_tf = tf_vectorizer.transform(data)\n",
    "    \n",
    "    \n",
    "    Naive_Bayes = MultinomialNB()\n",
    "    Naive_Bayes.fit(X_train_tf, train_y)\n",
    "    \n",
    "    y_pred = Naive_Bayes.predict(X_data_tf)\n",
    "    \n",
    "    y_pred_cat = []\n",
    "    \n",
    "    for label in y_pred:\n",
    "        if label == 0:\n",
    "            y_pred_cat.append('business')    \n",
    "        elif label == 1:\n",
    "            y_pred_cat.append('entertainment')\n",
    "        elif label == 2:\n",
    "            y_pred_cat.append('politics')\n",
    "        elif label == 3:\n",
    "            y_pred_cat.append('sport')\n",
    "        elif label == 4:\n",
    "            y_pred_cat.append('tech')\n",
    "    \n",
    "    return y_pred_cat\n",
    "    "
   ]
  },
  {
   "cell_type": "code",
   "execution_count": null,
   "id": "bf75d319",
   "metadata": {},
   "outputs": [],
   "source": [
    "TF_Naive_Bayes(dataNB)"
   ]
  },
  {
   "cell_type": "code",
   "execution_count": null,
   "id": "6238284c",
   "metadata": {},
   "outputs": [],
   "source": [
    "category_predicted_list = TF_Naive_Bayes(data)"
   ]
  },
  {
   "cell_type": "code",
   "execution_count": null,
   "id": "919f1200",
   "metadata": {},
   "outputs": [],
   "source": [
    "category_predicted_list"
   ]
  },
  {
   "cell_type": "code",
   "execution_count": null,
   "id": "2b4c8d51",
   "metadata": {},
   "outputs": [],
   "source": [
    "data"
   ]
  },
  {
   "cell_type": "markdown",
   "id": "301b6dc9",
   "metadata": {},
   "source": [
    "## APPLYING NAIVE BAYES TO API DATA"
   ]
  },
  {
   "cell_type": "code",
   "execution_count": null,
   "id": "451c0c2e",
   "metadata": {},
   "outputs": [],
   "source": [
    "data = pd.read_csv('API_data_cleaned.csv')"
   ]
  },
  {
   "cell_type": "code",
   "execution_count": null,
   "id": "066fee10",
   "metadata": {},
   "outputs": [],
   "source": [
    "data.head()"
   ]
  },
  {
   "cell_type": "code",
   "execution_count": null,
   "id": "883662cf",
   "metadata": {},
   "outputs": [],
   "source": [
    "category = TF_Naive_Bayes(data)"
   ]
  },
  {
   "cell_type": "code",
   "execution_count": null,
   "id": "0d93ff01",
   "metadata": {},
   "outputs": [],
   "source": [
    "len(category)"
   ]
  },
  {
   "cell_type": "code",
   "execution_count": null,
   "id": "0c4cb46c",
   "metadata": {},
   "outputs": [],
   "source": [
    "category_df=pd.DataFrame(category)"
   ]
  },
  {
   "cell_type": "code",
   "execution_count": null,
   "id": "98cb6361",
   "metadata": {},
   "outputs": [],
   "source": [
    "All = pd.read_csv('BBC_df_8days_API_28_07_2021.csv')"
   ]
  },
  {
   "cell_type": "code",
   "execution_count": null,
   "id": "fe084575",
   "metadata": {},
   "outputs": [],
   "source": [
    "All"
   ]
  },
  {
   "cell_type": "code",
   "execution_count": null,
   "id": "943d5963",
   "metadata": {},
   "outputs": [],
   "source": [
    "All['category'] = category_df"
   ]
  },
  {
   "cell_type": "markdown",
   "id": "f19bef46",
   "metadata": {},
   "source": [
    "- business: 0\n",
    "- entertainment: 1\n",
    "- politics: 2\n",
    "- sport: 3\n",
    "- tech: 4"
   ]
  },
  {
   "cell_type": "markdown",
   "id": "6e2629dd",
   "metadata": {},
   "source": [
    "# -----------------------------    GOOD NEWS ROBOT   --------------------------------"
   ]
  },
  {
   "cell_type": "code",
   "execution_count": null,
   "id": "62398d38",
   "metadata": {},
   "outputs": [],
   "source": []
  },
  {
   "cell_type": "code",
   "execution_count": null,
   "id": "0107154e",
   "metadata": {},
   "outputs": [],
   "source": []
  },
  {
   "cell_type": "code",
   "execution_count": null,
   "id": "d3e58424",
   "metadata": {},
   "outputs": [],
   "source": []
  },
  {
   "cell_type": "code",
   "execution_count": null,
   "id": "3455239a",
   "metadata": {},
   "outputs": [],
   "source": []
  }
 ],
 "metadata": {
  "kernelspec": {
   "display_name": "Python 3",
   "language": "python",
   "name": "python3"
  },
  "language_info": {
   "codemirror_mode": {
    "name": "ipython",
    "version": 3
   },
   "file_extension": ".py",
   "mimetype": "text/x-python",
   "name": "python",
   "nbconvert_exporter": "python",
   "pygments_lexer": "ipython3",
   "version": "3.8.8"
  }
 },
 "nbformat": 4,
 "nbformat_minor": 5
}
